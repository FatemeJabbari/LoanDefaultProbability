{
 "cells": [
  {
   "cell_type": "code",
   "execution_count": 1,
   "id": "6697ebd4",
   "metadata": {},
   "outputs": [
    {
     "ename": "ModuleNotFoundError",
     "evalue": "No module named 'seaborn'",
     "output_type": "error",
     "traceback": [
      "\u001b[1;31m---------------------------------------------------------------------------\u001b[0m",
      "\u001b[1;31mModuleNotFoundError\u001b[0m                       Traceback (most recent call last)",
      "Cell \u001b[1;32mIn[1], line 4\u001b[0m\n\u001b[0;32m      2\u001b[0m \u001b[38;5;28;01mimport\u001b[39;00m \u001b[38;5;21;01mpandas\u001b[39;00m \u001b[38;5;28;01mas\u001b[39;00m \u001b[38;5;21;01mpd\u001b[39;00m\n\u001b[0;32m      3\u001b[0m \u001b[38;5;28;01mimport\u001b[39;00m \u001b[38;5;21;01mmatplotlib\u001b[39;00m\u001b[38;5;21;01m.\u001b[39;00m\u001b[38;5;21;01mpyplot\u001b[39;00m \u001b[38;5;28;01mas\u001b[39;00m \u001b[38;5;21;01mplt\u001b[39;00m \n\u001b[1;32m----> 4\u001b[0m \u001b[38;5;28;01mimport\u001b[39;00m \u001b[38;5;21;01mseaborn\u001b[39;00m \u001b[38;5;28;01mas\u001b[39;00m \u001b[38;5;21;01msb\u001b[39;00m\n\u001b[0;32m      5\u001b[0m \u001b[38;5;28;01mimport\u001b[39;00m \u001b[38;5;21;01mscipy\u001b[39;00m\u001b[38;5;21;01m.\u001b[39;00m\u001b[38;5;21;01mstats\u001b[39;00m \u001b[38;5;28;01mas\u001b[39;00m \u001b[38;5;21;01msc\u001b[39;00m\n\u001b[0;32m      6\u001b[0m \u001b[38;5;28;01mfrom\u001b[39;00m \u001b[38;5;21;01mlifelines\u001b[39;00m \u001b[38;5;28;01mimport\u001b[39;00m CoxPHFitter\n",
      "\u001b[1;31mModuleNotFoundError\u001b[0m: No module named 'seaborn'"
     ]
    }
   ],
   "source": [
    "import numpy as np \n",
    "import pandas as pd\n",
    "import matplotlib.pyplot as plt \n",
    "import seaborn as sb\n",
    "import scipy.stats as sc\n",
    "from lifelines import CoxPHFitter\n",
    "from sklearn.linear_model import LogisticRegression\n",
    "from sklearn import metrics\n",
    "from sklearn.metrics import confusion_matrix\n",
    "from sklearn.metrics import classification_report  \n",
    "from sklearn.metrics import roc_auc_score\n",
    "from sklearn.metrics import roc_curve\n",
    "from sklearn.metrics import precision_recall_curve\n",
    "from sklearn.model_selection import train_test_split, KFold, cross_val_score\n",
    "from sklearn.preprocessing import MinMaxScaler\n",
    "from sklearn.metrics import (\n",
    "accuracy_score, confusion_matrix, classification_report,\n",
    "roc_auc_score, roc_curve, auc,\n",
    "ConfusionMatrixDisplay, RocCurveDisplay)"
   ]
  },
  {
   "cell_type": "code",
   "execution_count": null,
   "id": "081ac80b",
   "metadata": {},
   "outputs": [],
   "source": [
    "#pip install --upgrade numpy\n",
    "!conda update numpy -y\n"
   ]
  },
  {
   "cell_type": "code",
   "execution_count": null,
   "id": "60f0326d",
   "metadata": {},
   "outputs": [],
   "source": [
    "df= pd.read_excel('downloads/Book2.xlsx')"
   ]
  },
  {
   "cell_type": "code",
   "execution_count": null,
   "id": "6ecb2962",
   "metadata": {},
   "outputs": [],
   "source": [
    "import sys"
   ]
  },
  {
   "cell_type": "code",
   "execution_count": null,
   "id": "3189ce88",
   "metadata": {},
   "outputs": [],
   "source": [
    "print(sys.executable)"
   ]
  },
  {
   "cell_type": "code",
   "execution_count": null,
   "id": "bbf6577c",
   "metadata": {},
   "outputs": [],
   "source": [
    "print(sys.path)"
   ]
  },
  {
   "cell_type": "code",
   "execution_count": null,
   "id": "5537c004",
   "metadata": {},
   "outputs": [],
   "source": [
    "import pandas as pd\n",
    "print(pd.__file__)"
   ]
  },
  {
   "cell_type": "code",
   "execution_count": null,
   "id": "453b8564",
   "metadata": {},
   "outputs": [],
   "source": [
    "!pip install numpy>=1.22.4\n"
   ]
  },
  {
   "cell_type": "code",
   "execution_count": null,
   "id": "1b4d4ba9",
   "metadata": {},
   "outputs": [],
   "source": [
    "!pip install pandas>=3.1.0\n"
   ]
  },
  {
   "cell_type": "code",
   "execution_count": null,
   "id": "31a71f7e",
   "metadata": {},
   "outputs": [],
   "source": [
    "import numpy as np\n",
    "print(np.__version__)"
   ]
  },
  {
   "cell_type": "code",
   "execution_count": null,
   "id": "67200ecb",
   "metadata": {},
   "outputs": [],
   "source": []
  },
  {
   "cell_type": "code",
   "execution_count": null,
   "id": "cbddf58d",
   "metadata": {},
   "outputs": [],
   "source": [
    "import pandas as pd\n",
    "print(pd.__version__)"
   ]
  },
  {
   "cell_type": "code",
   "execution_count": null,
   "id": "d8efae2f",
   "metadata": {},
   "outputs": [],
   "source": [
    "pip install --upgrade pandas"
   ]
  },
  {
   "cell_type": "code",
   "execution_count": null,
   "id": "9351e5e1",
   "metadata": {},
   "outputs": [],
   "source": [
    "pip install --upgrade numpy"
   ]
  },
  {
   "cell_type": "code",
   "execution_count": null,
   "id": "d82430c7",
   "metadata": {},
   "outputs": [],
   "source": [
    "import numpy as np\n",
    "print(np.__version__)"
   ]
  },
  {
   "cell_type": "code",
   "execution_count": null,
   "id": "b9262442",
   "metadata": {},
   "outputs": [],
   "source": []
  },
  {
   "cell_type": "code",
   "execution_count": null,
   "id": "daeca3b4",
   "metadata": {},
   "outputs": [],
   "source": [
    "df"
   ]
  },
  {
   "cell_type": "code",
   "execution_count": null,
   "id": "aa4d05c8",
   "metadata": {},
   "outputs": [],
   "source": [
    "df.head()"
   ]
  },
  {
   "cell_type": "code",
   "execution_count": null,
   "id": "3ac93db0",
   "metadata": {},
   "outputs": [],
   "source": [
    "df.tail()"
   ]
  },
  {
   "cell_type": "code",
   "execution_count": null,
   "id": "75a1ba1f",
   "metadata": {},
   "outputs": [],
   "source": [
    "df.columns"
   ]
  },
  {
   "cell_type": "code",
   "execution_count": null,
   "id": "2832ae4e",
   "metadata": {},
   "outputs": [],
   "source": [
    "df.info()"
   ]
  },
  {
   "cell_type": "code",
   "execution_count": null,
   "id": "3210007d",
   "metadata": {},
   "outputs": [],
   "source": [
    "df.dtypes"
   ]
  },
  {
   "cell_type": "code",
   "execution_count": null,
   "id": "1ed6f358",
   "metadata": {},
   "outputs": [],
   "source": [
    "df.select_dtypes(include='object')"
   ]
  },
  {
   "cell_type": "code",
   "execution_count": null,
   "id": "9e62a66a",
   "metadata": {},
   "outputs": [],
   "source": [
    "df.select_dtypes(include='object').columns"
   ]
  },
  {
   "cell_type": "code",
   "execution_count": null,
   "id": "b1091911",
   "metadata": {},
   "outputs": [],
   "source": [
    "df['home_ownership'].unique()"
   ]
  },
  {
   "cell_type": "code",
   "execution_count": null,
   "id": "325d9fe4",
   "metadata": {},
   "outputs": [],
   "source": [
    "df['home_ownership'].value_counts()"
   ]
  },
  {
   "cell_type": "code",
   "execution_count": null,
   "id": "f5fc1077",
   "metadata": {},
   "outputs": [],
   "source": [
    "df['loan_status'].unique()"
   ]
  },
  {
   "cell_type": "code",
   "execution_count": null,
   "id": "19b7e244",
   "metadata": {},
   "outputs": [],
   "source": [
    "df['loan_status'].value_counts(dropna=False)"
   ]
  },
  {
   "cell_type": "code",
   "execution_count": null,
   "id": "11a2a097",
   "metadata": {},
   "outputs": [],
   "source": [
    "df['loan_status'].value_counts(normalize=True, dropna=False)"
   ]
  },
  {
   "cell_type": "code",
   "execution_count": null,
   "id": "719b6403",
   "metadata": {},
   "outputs": [],
   "source": [
    "sb.countplot(df['loan_status'])"
   ]
  },
  {
   "cell_type": "code",
   "execution_count": null,
   "id": "5cb87320",
   "metadata": {},
   "outputs": [],
   "source": [
    "sb.countplot(df['purpose'])"
   ]
  },
  {
   "cell_type": "code",
   "execution_count": null,
   "id": "0e46f154",
   "metadata": {},
   "outputs": [],
   "source": [
    "sb.countplot(df['emp_length'])\n",
    "plt.show()\n",
    "figsize=(25,25)"
   ]
  },
  {
   "cell_type": "code",
   "execution_count": null,
   "id": "65c71010",
   "metadata": {},
   "outputs": [],
   "source": [
    "df['term'].unique()"
   ]
  },
  {
   "cell_type": "code",
   "execution_count": null,
   "id": "3c177b4b",
   "metadata": {},
   "outputs": [],
   "source": [
    "df['term'].value_counts()"
   ]
  },
  {
   "cell_type": "code",
   "execution_count": null,
   "id": "40e8f430",
   "metadata": {},
   "outputs": [],
   "source": [
    "df['term'].value_counts(dropna=True)"
   ]
  },
  {
   "cell_type": "code",
   "execution_count": null,
   "id": "c4418a91",
   "metadata": {},
   "outputs": [],
   "source": [
    "sb.countplot(df['term'])"
   ]
  },
  {
   "cell_type": "code",
   "execution_count": null,
   "id": "099deba1",
   "metadata": {},
   "outputs": [],
   "source": [
    "df['sub_grade'].unique()"
   ]
  },
  {
   "cell_type": "code",
   "execution_count": null,
   "id": "e49742b6",
   "metadata": {},
   "outputs": [],
   "source": [
    "df['grade'].unique()"
   ]
  },
  {
   "cell_type": "code",
   "execution_count": null,
   "id": "2f0b35c6",
   "metadata": {},
   "outputs": [],
   "source": [
    "df['purpose'].value_counts(dropna=False)"
   ]
  },
  {
   "cell_type": "code",
   "execution_count": null,
   "id": "7a398307",
   "metadata": {},
   "outputs": [],
   "source": [
    "df['purpose'].value_counts(normalize=True, dropna=False)"
   ]
  },
  {
   "cell_type": "code",
   "execution_count": null,
   "id": "5ee84eb8",
   "metadata": {},
   "outputs": [],
   "source": [
    "df['purpose'].unique()"
   ]
  },
  {
   "cell_type": "code",
   "execution_count": null,
   "id": "0da740b5",
   "metadata": {},
   "outputs": [],
   "source": [
    "df['emp_length'].unique()"
   ]
  },
  {
   "cell_type": "code",
   "execution_count": null,
   "id": "c9301d5f",
   "metadata": {},
   "outputs": [],
   "source": [
    "df['loan_amnt'].unique()"
   ]
  },
  {
   "cell_type": "code",
   "execution_count": null,
   "id": "bdcfcb9e",
   "metadata": {},
   "outputs": [],
   "source": [
    "df['loan_amnt'].value_counts()"
   ]
  },
  {
   "cell_type": "code",
   "execution_count": null,
   "id": "f3eb5a43",
   "metadata": {},
   "outputs": [],
   "source": [
    "df.select_dtypes(include='datetime')"
   ]
  },
  {
   "cell_type": "code",
   "execution_count": null,
   "id": "c177c82e",
   "metadata": {},
   "outputs": [],
   "source": [
    "df.select_dtypes(include='int')"
   ]
  },
  {
   "cell_type": "code",
   "execution_count": null,
   "id": "50879bbb",
   "metadata": {},
   "outputs": [],
   "source": [
    "df.select_dtypes(include='int').columns"
   ]
  },
  {
   "cell_type": "code",
   "execution_count": null,
   "id": "2c07a12d",
   "metadata": {},
   "outputs": [],
   "source": [
    "df.select_dtypes(include='float')"
   ]
  },
  {
   "cell_type": "code",
   "execution_count": null,
   "id": "14f45c3c",
   "metadata": {},
   "outputs": [],
   "source": [
    "df.select_dtypes(include='float').columns"
   ]
  },
  {
   "cell_type": "code",
   "execution_count": null,
   "id": "2b8d2992",
   "metadata": {},
   "outputs": [],
   "source": [
    "df['delinq_2yrs'].value_counts(dropna=False)"
   ]
  },
  {
   "cell_type": "code",
   "execution_count": null,
   "id": "6f8a8be4",
   "metadata": {},
   "outputs": [],
   "source": [
    "df['delinq_2yrs'].unique()"
   ]
  },
  {
   "cell_type": "code",
   "execution_count": null,
   "id": "d5319fe4",
   "metadata": {},
   "outputs": [],
   "source": [
    "df['installment'].unique()"
   ]
  },
  {
   "cell_type": "code",
   "execution_count": null,
   "id": "87a6f126",
   "metadata": {},
   "outputs": [],
   "source": [
    "df['dti'].unique()"
   ]
  },
  {
   "cell_type": "code",
   "execution_count": null,
   "id": "4e6f5226",
   "metadata": {},
   "outputs": [],
   "source": [
    "df.loc[df['dti'].isin([1])]"
   ]
  },
  {
   "cell_type": "code",
   "execution_count": null,
   "id": "a435af46",
   "metadata": {},
   "outputs": [],
   "source": [
    "df['annual_inc']"
   ]
  },
  {
   "cell_type": "code",
   "execution_count": null,
   "id": "313ad323",
   "metadata": {},
   "outputs": [],
   "source": [
    "df['installment']"
   ]
  },
  {
   "cell_type": "code",
   "execution_count": null,
   "id": "e283f862",
   "metadata": {},
   "outputs": [],
   "source": [
    "df.isnull()"
   ]
  },
  {
   "cell_type": "code",
   "execution_count": null,
   "id": "2abf6df3",
   "metadata": {},
   "outputs": [],
   "source": [
    "df.isnull().sum()"
   ]
  },
  {
   "cell_type": "code",
   "execution_count": null,
   "id": "141d02c5",
   "metadata": {},
   "outputs": [],
   "source": [
    "df['loanstatus']= (df['loan_status']=='Charged Off').apply(np.uint8)"
   ]
  },
  {
   "cell_type": "code",
   "execution_count": null,
   "id": "6175eea6",
   "metadata": {},
   "outputs": [],
   "source": [
    "df['loanstatus'].unique()"
   ]
  },
  {
   "cell_type": "code",
   "execution_count": null,
   "id": "53ba2c70",
   "metadata": {},
   "outputs": [],
   "source": [
    "df.shape"
   ]
  },
  {
   "cell_type": "code",
   "execution_count": null,
   "id": "ade11b3d",
   "metadata": {},
   "outputs": [],
   "source": [
    "df[['sub_grade', 'grade']]"
   ]
  },
  {
   "cell_type": "code",
   "execution_count": null,
   "id": "380f9b30",
   "metadata": {},
   "outputs": [],
   "source": [
    "df[['loan_amnt', 'installment','term','int_rate']]"
   ]
  },
  {
   "cell_type": "code",
   "execution_count": null,
   "id": "bbdef2c5",
   "metadata": {},
   "outputs": [],
   "source": [
    "df[['loan_amnt','annual_inc','installment','term','dti','int_rate']]"
   ]
  },
  {
   "cell_type": "code",
   "execution_count": null,
   "id": "5e650b7b",
   "metadata": {},
   "outputs": [],
   "source": [
    "df['loanamounttoannualincome']= df['loan_amnt']/ df['annual_inc']"
   ]
  },
  {
   "cell_type": "code",
   "execution_count": null,
   "id": "103b0bd3",
   "metadata": {},
   "outputs": [],
   "source": [
    "df['loanamounttoannualincome'].unique()"
   ]
  },
  {
   "cell_type": "code",
   "execution_count": null,
   "id": "09d0b145",
   "metadata": {},
   "outputs": [],
   "source": [
    "df['annualinstallmenttoannualincome']= ((df['installment']*12) / df['annual_inc'])"
   ]
  },
  {
   "cell_type": "code",
   "execution_count": null,
   "id": "f40bf505",
   "metadata": {},
   "outputs": [],
   "source": [
    "df['installment']*12"
   ]
  },
  {
   "cell_type": "code",
   "execution_count": null,
   "id": "35c94afe",
   "metadata": {},
   "outputs": [],
   "source": [
    "df.info()"
   ]
  },
  {
   "cell_type": "code",
   "execution_count": null,
   "id": "c1cd2d4e",
   "metadata": {},
   "outputs": [],
   "source": [
    "df[df['annualinstallmenttoannualincome'] < 1.00000000]"
   ]
  },
  {
   "cell_type": "code",
   "execution_count": null,
   "id": "61e11ec9",
   "metadata": {},
   "outputs": [],
   "source": [
    "result=df[df['loanamounttoannualincome'] < 1 ]\n",
    "print(result)"
   ]
  },
  {
   "cell_type": "code",
   "execution_count": null,
   "id": "14979701",
   "metadata": {},
   "outputs": [],
   "source": [
    "df.shape"
   ]
  },
  {
   "cell_type": "code",
   "execution_count": null,
   "id": "2b596ef2",
   "metadata": {},
   "outputs": [],
   "source": [
    "df.info()"
   ]
  },
  {
   "cell_type": "code",
   "execution_count": null,
   "id": "515aa4db",
   "metadata": {},
   "outputs": [],
   "source": [
    "df.select_dtypes(include='object').nunique()"
   ]
  },
  {
   "cell_type": "code",
   "execution_count": null,
   "id": "625d81f6",
   "metadata": {},
   "outputs": [],
   "source": [
    "df.select_dtypes(include='int').nunique()"
   ]
  },
  {
   "cell_type": "code",
   "execution_count": null,
   "id": "a2bb7410",
   "metadata": {},
   "outputs": [],
   "source": [
    "df.select_dtypes(include='datetime').nunique()"
   ]
  },
  {
   "cell_type": "code",
   "execution_count": null,
   "id": "2b6cd47e",
   "metadata": {},
   "outputs": [],
   "source": [
    "df.select_dtypes(include='float').nunique()"
   ]
  },
  {
   "cell_type": "code",
   "execution_count": null,
   "id": "00151967",
   "metadata": {},
   "outputs": [],
   "source": [
    "df['loanstatus'].dtype"
   ]
  },
  {
   "cell_type": "code",
   "execution_count": null,
   "id": "1ebbe9cd",
   "metadata": {},
   "outputs": [],
   "source": [
    "df.select_dtypes(include='int8').nunique()"
   ]
  },
  {
   "cell_type": "code",
   "execution_count": null,
   "id": "849c525e",
   "metadata": {},
   "outputs": [],
   "source": [
    "df.isnull().sum()"
   ]
  },
  {
   "cell_type": "code",
   "execution_count": null,
   "id": "1df1fb1e",
   "metadata": {},
   "outputs": [],
   "source": [
    "df.isnull().mean().sort_values(ascending=False)"
   ]
  },
  {
   "cell_type": "code",
   "execution_count": null,
   "id": "391263bf",
   "metadata": {},
   "outputs": [],
   "source": [
    "df.columns"
   ]
  },
  {
   "cell_type": "code",
   "execution_count": null,
   "id": "1b1ce160",
   "metadata": {},
   "outputs": [],
   "source": [
    "null=df.isnull().sum().sort_values(ascending=False)"
   ]
  },
  {
   "cell_type": "code",
   "execution_count": null,
   "id": "a6d448a3",
   "metadata": {},
   "outputs": [],
   "source": [
    "null"
   ]
  },
  {
   "cell_type": "code",
   "execution_count": null,
   "id": "609ef7d8",
   "metadata": {},
   "outputs": [],
   "source": [
    "nullmean=df.isnull().mean().sort_values(ascending=False)\n",
    "nullmean"
   ]
  },
  {
   "cell_type": "code",
   "execution_count": null,
   "id": "7abb1495",
   "metadata": {},
   "outputs": [],
   "source": [
    "drop1list= sorted(list(nullmean[nullmean> 0.3].index))"
   ]
  },
  {
   "cell_type": "code",
   "execution_count": null,
   "id": "dae297b5",
   "metadata": {},
   "outputs": [],
   "source": [
    "drop1list"
   ]
  },
  {
   "cell_type": "code",
   "execution_count": null,
   "id": "9369264d",
   "metadata": {},
   "outputs": [],
   "source": [
    "df['mths_since_last_delinq'].isnull().sum()"
   ]
  },
  {
   "cell_type": "code",
   "execution_count": null,
   "id": "3e151697",
   "metadata": {},
   "outputs": [],
   "source": [
    "df.drop(labels=drop1list, axis=1, inplace=True)"
   ]
  },
  {
   "cell_type": "code",
   "execution_count": null,
   "id": "f9da2445",
   "metadata": {},
   "outputs": [],
   "source": [
    "df.shape"
   ]
  },
  {
   "cell_type": "code",
   "execution_count": null,
   "id": "4feef983",
   "metadata": {},
   "outputs": [],
   "source": [
    "df.info()"
   ]
  },
  {
   "cell_type": "code",
   "execution_count": null,
   "id": "7052b247",
   "metadata": {},
   "outputs": [],
   "source": [
    "keep_list = ['grade', 'sub_grade','int_rate','purpose','loan_amnt','annual_inc',\\\n",
    "            'home_ownership','emp_length','delinq_2yrs','inq_last_6mths',\\\n",
    "            'pub_rec', 'revol_util','open_acc', 'installment','loanamounttoannualincome',\\\n",
    "            'annualinstallmenttoannualincome','dti','term','loanstatus','loan_status','fico_range_low',\\\n",
    "            'fico_range_high','issue_d', 'earliest_cr_line', 'last_pymnt_d', 'last_credit_pull_d']"
   ]
  },
  {
   "cell_type": "code",
   "execution_count": null,
   "id": "9b436f30",
   "metadata": {},
   "outputs": [],
   "source": [
    "drop_list= [col for col in df.columns if col not in keep_list]\n",
    "drop_list"
   ]
  },
  {
   "cell_type": "code",
   "execution_count": null,
   "id": "a3600343",
   "metadata": {},
   "outputs": [],
   "source": [
    "df['emp_title'].unique()"
   ]
  },
  {
   "cell_type": "code",
   "execution_count": null,
   "id": "231a9965",
   "metadata": {},
   "outputs": [],
   "source": [
    "df['title'].unique()"
   ]
  },
  {
   "cell_type": "code",
   "execution_count": null,
   "id": "c1ac31ab",
   "metadata": {},
   "outputs": [],
   "source": [
    "df['purpose'].unique()"
   ]
  },
  {
   "cell_type": "code",
   "execution_count": null,
   "id": "0bc7dcef",
   "metadata": {},
   "outputs": [],
   "source": [
    "df.drop(labels=drop_list, axis=1, inplace=True)\n"
   ]
  },
  {
   "cell_type": "code",
   "execution_count": null,
   "id": "a3a2c34d",
   "metadata": {},
   "outputs": [],
   "source": [
    "df.shape"
   ]
  },
  {
   "cell_type": "code",
   "execution_count": null,
   "id": "9e52e919",
   "metadata": {},
   "outputs": [],
   "source": [
    "df.info()"
   ]
  },
  {
   "cell_type": "code",
   "execution_count": null,
   "id": "80e24ce9",
   "metadata": {},
   "outputs": [],
   "source": [
    "df.isnull().sum()"
   ]
  },
  {
   "cell_type": "code",
   "execution_count": null,
   "id": "ba3c0e37",
   "metadata": {},
   "outputs": [],
   "source": [
    "df.notnull().sum()"
   ]
  },
  {
   "cell_type": "code",
   "execution_count": null,
   "id": "1703844c",
   "metadata": {},
   "outputs": [],
   "source": [
    "df['term']= df['term'].apply(lambda s: np.int8(s.split()[0]))"
   ]
  },
  {
   "cell_type": "code",
   "execution_count": null,
   "id": "6bdeb8f3",
   "metadata": {},
   "outputs": [],
   "source": [
    "df['term'].unique()"
   ]
  },
  {
   "cell_type": "code",
   "execution_count": null,
   "id": "75b34e43",
   "metadata": {},
   "outputs": [],
   "source": [
    "df.groupby('term')['loanstatus'].value_counts()"
   ]
  },
  {
   "cell_type": "code",
   "execution_count": null,
   "id": "73baecc3",
   "metadata": {},
   "outputs": [],
   "source": [
    "df.groupby('term')['loanstatus'].value_counts().loc[:,1]"
   ]
  },
  {
   "cell_type": "code",
   "execution_count": null,
   "id": "f692a29b",
   "metadata": {},
   "outputs": [],
   "source": [
    "df.groupby('purpose')['loanstatus'].describe()"
   ]
  },
  {
   "cell_type": "code",
   "execution_count": null,
   "id": "eb67bb7f",
   "metadata": {},
   "outputs": [],
   "source": [
    "df.groupby('loanstatus')['purpose'].describe()"
   ]
  },
  {
   "cell_type": "code",
   "execution_count": null,
   "id": "d350fe03",
   "metadata": {},
   "outputs": [],
   "source": [
    "# POINT BISERAIL CORRELATION REGARDING TO ARTICLE"
   ]
  },
  {
   "cell_type": "code",
   "execution_count": null,
   "id": "c0eca185",
   "metadata": {
    "scrolled": true
   },
   "outputs": [],
   "source": [
    "df.columns"
   ]
  },
  {
   "cell_type": "code",
   "execution_count": null,
   "id": "b51020f6",
   "metadata": {},
   "outputs": [],
   "source": []
  },
  {
   "cell_type": "code",
   "execution_count": null,
   "id": "3ba4b774",
   "metadata": {},
   "outputs": [],
   "source": [
    " df.groupby('purpose')['loanstatus'].describe()"
   ]
  },
  {
   "cell_type": "code",
   "execution_count": null,
   "id": "c5758b42",
   "metadata": {},
   "outputs": [],
   "source": [
    "df.groupby('grade')['loanstatus'].describe(include='all')"
   ]
  },
  {
   "cell_type": "code",
   "execution_count": null,
   "id": "fda72ed7",
   "metadata": {},
   "outputs": [],
   "source": [
    "df.groupby('loanstatus')['purpose'].value_counts(normalize=True).unstack(fill_value=0).mul(100).rename(columns={0 : 'yes', 1 :'No'})"
   ]
  },
  {
   "cell_type": "code",
   "execution_count": null,
   "id": "f85bb5cc",
   "metadata": {},
   "outputs": [],
   "source": [
    "df.groupby('loanstatus')['purpose'].value_counts(normalize=False).unstack(fill_value=0).mul(100).rename(columns={0 : 'yes', 1 :'No'})"
   ]
  },
  {
   "cell_type": "code",
   "execution_count": null,
   "id": "270cfae1",
   "metadata": {},
   "outputs": [],
   "source": [
    "df.groupby('loanstatus')['grade'].value_counts(normalize=True).unstack(fill_value=0).mul(100).rename(columns={0 : 'yes', 1 :'No'})"
   ]
  },
  {
   "cell_type": "code",
   "execution_count": null,
   "id": "71b969b8",
   "metadata": {},
   "outputs": [],
   "source": [
    "df.groupby('loanstatus')['sub_grade'].value_counts(normalize=True).unstack(fill_value=0).mul(100).rename(columns={0 : 'yes', 1 :'No'})"
   ]
  },
  {
   "cell_type": "code",
   "execution_count": null,
   "id": "bfbf40ec",
   "metadata": {},
   "outputs": [],
   "source": [
    "df.groupby('loan_status')['sub_grade'].value_counts(normalize=True).unstack(fill_value=0).mul(100).rename(columns={0 : 'yes', 1 :'No'})"
   ]
  },
  {
   "cell_type": "code",
   "execution_count": null,
   "id": "4f2bcedd",
   "metadata": {},
   "outputs": [],
   "source": [
    "df['emp_length'].unique()"
   ]
  },
  {
   "cell_type": "code",
   "execution_count": null,
   "id": "01e8f97a",
   "metadata": {},
   "outputs": [],
   "source": [
    "df['emp_length'].replace(to_replace= '10+ years', value='10 years', \\\n",
    "                        inplace=True)"
   ]
  },
  {
   "cell_type": "code",
   "execution_count": null,
   "id": "221edff1",
   "metadata": {},
   "outputs": [],
   "source": [
    "df['emp_length'].replace(to_replace='< 1 year', value='0 year', inplace=True)"
   ]
  },
  {
   "cell_type": "code",
   "execution_count": null,
   "id": "7028ca08",
   "metadata": {},
   "outputs": [],
   "source": [
    "def emp_length_to_int(s):\n",
    "    if pd.isnull(s):\n",
    "        return s\n",
    "    else:\n",
    "        return np.int8(s.split()[0])"
   ]
  },
  {
   "cell_type": "code",
   "execution_count": null,
   "id": "0410bef7",
   "metadata": {},
   "outputs": [],
   "source": [
    "df['emp_length'] = df['emp_length'].apply(emp_length_to_int)"
   ]
  },
  {
   "cell_type": "code",
   "execution_count": null,
   "id": "7ed77cbb",
   "metadata": {},
   "outputs": [],
   "source": [
    "df['emp_length']"
   ]
  },
  {
   "cell_type": "code",
   "execution_count": null,
   "id": "4f2caa3e",
   "metadata": {},
   "outputs": [],
   "source": [
    "loanstatuse_rate=df.groupby('emp_length')['loanstatus'].value_counts(normalize=True).loc[:,1]\n",
    "loanstatuse_rate"
   ]
  },
  {
   "cell_type": "code",
   "execution_count": null,
   "id": "0b768c15",
   "metadata": {},
   "outputs": [],
   "source": [
    "sb.barplot(x=loanstatuse_rate.index , y=loanstatuse_rate.values)"
   ]
  },
  {
   "cell_type": "code",
   "execution_count": null,
   "id": "c4603fab",
   "metadata": {},
   "outputs": [],
   "source": [
    "loanstatuse_rate2=df.groupby('sub_grade')['loanstatus'].value_counts(normalize=True).loc[:,1]\n",
    "loanstatuse_rate2"
   ]
  },
  {
   "cell_type": "code",
   "execution_count": null,
   "id": "3558b087",
   "metadata": {},
   "outputs": [],
   "source": [
    "sb.barplot(x=loanstatuse_rate2.index , y=loanstatuse_rate2.values)"
   ]
  },
  {
   "cell_type": "code",
   "execution_count": null,
   "id": "c2beea63",
   "metadata": {},
   "outputs": [],
   "source": [
    "df.describe(include='all')"
   ]
  },
  {
   "cell_type": "code",
   "execution_count": null,
   "id": "f39b3e1e",
   "metadata": {},
   "outputs": [],
   "source": [
    "df['annual_inc'].describe()"
   ]
  },
  {
   "cell_type": "code",
   "execution_count": null,
   "id": "ee060f31",
   "metadata": {},
   "outputs": [],
   "source": [
    "df['log_annual_inc'] = df['annual_inc'].apply(lambda x: np.log10(x+1))"
   ]
  },
  {
   "cell_type": "code",
   "execution_count": null,
   "id": "e2eec283",
   "metadata": {},
   "outputs": [],
   "source": [
    "df['log_annual_inc'].describe()"
   ]
  },
  {
   "cell_type": "code",
   "execution_count": null,
   "id": "18b8d4fc",
   "metadata": {},
   "outputs": [],
   "source": [
    "df[['fico_range_low', 'fico_range_high']].corr()"
   ]
  },
  {
   "cell_type": "code",
   "execution_count": null,
   "id": "fa3cc291",
   "metadata": {},
   "outputs": [],
   "source": [
    "df['fico_score']= 0.5* df['fico_range_low'] + 0.5* df['fico_range_high']"
   ]
  },
  {
   "cell_type": "code",
   "execution_count": null,
   "id": "7beb0788",
   "metadata": {},
   "outputs": [],
   "source": [
    "df['fico_score']"
   ]
  },
  {
   "cell_type": "markdown",
   "id": "c6f77c34",
   "metadata": {},
   "source": [
    "# POINT BISERAIL CORRELATION REGARDING TO ARTICLE\n"
   ]
  },
  {
   "cell_type": "code",
   "execution_count": null,
   "id": "f151a477",
   "metadata": {},
   "outputs": [],
   "source": [
    "df.columns"
   ]
  },
  {
   "cell_type": "code",
   "execution_count": null,
   "id": "d1e6ab22",
   "metadata": {},
   "outputs": [],
   "source": [
    "dfpoint = df[['sub_grade','home_ownership','purpose','int_rate']]"
   ]
  },
  {
   "cell_type": "code",
   "execution_count": null,
   "id": "8c3c4431",
   "metadata": {},
   "outputs": [],
   "source": [
    "dfpoint"
   ]
  },
  {
   "cell_type": "code",
   "execution_count": null,
   "id": "b1125cd1",
   "metadata": {},
   "outputs": [],
   "source": [
    "dfpoint['sub_grade'].unique()"
   ]
  },
  {
   "cell_type": "code",
   "execution_count": null,
   "id": "2695befd",
   "metadata": {},
   "outputs": [],
   "source": [
    "dfpoint['sub_grade'].value_counts()"
   ]
  },
  {
   "cell_type": "code",
   "execution_count": null,
   "id": "dd6d0289",
   "metadata": {},
   "outputs": [],
   "source": [
    "sub_grade_mapping = {\n",
    "    'B2':7, 'C4':14, 'C5':15, 'C1':11, 'B5':10, 'A4':4, 'E1':21, 'F2':27, 'C3':11, 'B1':6, 'D1':16,\n",
    "       'A1':1, 'B3':8, 'B4':9, 'C2':12, 'D2':17, 'A3':3, 'A5':5, 'D5':20, 'A2':2, 'E4':24, 'D3':18,\n",
    "       'D4':19, 'F3':28, 'E3':23, 'F4':29, 'F1':26, 'E5':25, 'G4':34, 'E2':22, 'G3':33, 'G2':32, 'G1':31,\n",
    "       'F5':30, 'G5':35\n",
    "  }"
   ]
  },
  {
   "cell_type": "code",
   "execution_count": null,
   "id": "cce9b998",
   "metadata": {},
   "outputs": [],
   "source": [
    "dfpoint['sub_grade'] = dfpoint['sub_grade'].map(sub_grade_mapping)"
   ]
  },
  {
   "cell_type": "code",
   "execution_count": null,
   "id": "7306b0dc",
   "metadata": {},
   "outputs": [],
   "source": [
    "dfpoint= pd.get_dummies(dfpoint, columns=['home_ownership','purpose'])\n"
   ]
  },
  {
   "cell_type": "code",
   "execution_count": null,
   "id": "468d3461",
   "metadata": {},
   "outputs": [],
   "source": [
    "from scipy import stats"
   ]
  },
  {
   "cell_type": "code",
   "execution_count": null,
   "id": "c5761105",
   "metadata": {},
   "outputs": [],
   "source": [
    "dfpoint.columns"
   ]
  },
  {
   "cell_type": "code",
   "execution_count": null,
   "id": "af0b9f69",
   "metadata": {},
   "outputs": [],
   "source": [
    "correlation_coefficients = {}\n",
    "for col in dfpoint.columns:\n",
    "    if col != 'sub_grade':\n",
    "        corr_coefficient, p_value = stats.pointbiserialr(dfpoint['sub_grade'], dfpoint[col])\n",
    "        correlation_coefficients[col] = corr_coefficient\n"
   ]
  },
  {
   "cell_type": "code",
   "execution_count": null,
   "id": "76b79d34",
   "metadata": {},
   "outputs": [],
   "source": [
    "correlation_table = pd.DataFrame(correlation_coefficients.items(), columns=['Variable', 'Point Biserial Correlation Coefficient'])\n",
    "\n",
    "print(correlation_table)"
   ]
  },
  {
   "cell_type": "code",
   "execution_count": null,
   "id": "53b5e58a",
   "metadata": {},
   "outputs": [],
   "source": [
    "correlation_coefficients = {}\n",
    "for col in dfpoint.columns:\n",
    "    if col != 'int_rate':\n",
    "        corr_coefficient, p_value = stats.pointbiserialr(dfpoint['int_rate'], dfpoint[col])\n",
    "        correlation_coefficients[col] = corr_coefficient\n"
   ]
  },
  {
   "cell_type": "code",
   "execution_count": null,
   "id": "82bd7ce8",
   "metadata": {},
   "outputs": [],
   "source": [
    "correlation_table = pd.DataFrame(correlation_coefficients.items(), columns=['Variable', 'Point Biserial Correlation Coefficient'])\n",
    "\n",
    "print(correlation_table)"
   ]
  },
  {
   "cell_type": "code",
   "execution_count": null,
   "id": "4abe9daf",
   "metadata": {},
   "outputs": [],
   "source": [
    "correlation_coefficients = {}\n",
    "for col in dfpoint.columns:\n",
    "    if col != 'home_ownership_RENT':\n",
    "        corr_coefficient, p_value = stats.pointbiserialr(dfpoint['home_ownership_RENT'], dfpoint[col])\n",
    "        correlation_coefficients[col] = corr_coefficient\n"
   ]
  },
  {
   "cell_type": "code",
   "execution_count": null,
   "id": "2a21d298",
   "metadata": {},
   "outputs": [],
   "source": [
    "correlation_table = pd.DataFrame(correlation_coefficients.items(), columns=['Variable', 'Point Biserial Correlation Coefficient'])\n",
    "\n",
    "print(correlation_table)"
   ]
  },
  {
   "cell_type": "code",
   "execution_count": null,
   "id": "8baffc27",
   "metadata": {},
   "outputs": [],
   "source": [
    "correlation_coefficients = {}\n",
    "for col in dfpoint.columns:\n",
    "    if col != 'home_ownership_OWN':\n",
    "        corr_coefficient, p_value = stats.pointbiserialr(dfpoint['home_ownership_OWN'], dfpoint[col])\n",
    "        correlation_coefficients[col] = corr_coefficient\n",
    "correlation_table = pd.DataFrame(correlation_coefficients.items(), columns=['Variable', 'Point Biserial Correlation Coefficient'])\n",
    "\n",
    "print(correlation_table)"
   ]
  },
  {
   "cell_type": "code",
   "execution_count": null,
   "id": "436d7fb1",
   "metadata": {},
   "outputs": [],
   "source": [
    "correlation_coefficients = {}\n",
    "for col in dfpoint.columns:\n",
    "    if col != 'home_ownership_MORTGAGE':\n",
    "        corr_coefficient, p_value = stats.pointbiserialr(dfpoint['home_ownership_MORTGAGE'], dfpoint[col])\n",
    "        correlation_coefficients[col] = corr_coefficient\n",
    "correlation_table = pd.DataFrame(correlation_coefficients.items(), columns=['Variable', 'Point Biserial Correlation Coefficient'])\n",
    "\n",
    "print(correlation_table)"
   ]
  },
  {
   "cell_type": "code",
   "execution_count": null,
   "id": "cef738c6",
   "metadata": {},
   "outputs": [],
   "source": [
    "correlation_coefficients = {}\n",
    "for col in dfpoint.columns:\n",
    "    if col != 'purpose_car':\n",
    "        corr_coefficient, p_value = stats.pointbiserialr(dfpoint['purpose_car'], dfpoint[col])\n",
    "        correlation_coefficients[col] = corr_coefficient\n",
    "correlation_table = pd.DataFrame(correlation_coefficients.items(), columns=['Variable', 'Point Biserial Correlation Coefficient'])\n",
    "\n",
    "print(correlation_table)"
   ]
  },
  {
   "cell_type": "code",
   "execution_count": null,
   "id": "7bfe2f64",
   "metadata": {},
   "outputs": [],
   "source": [
    "correlation_coefficients = {}\n",
    "for col in dfpoint.columns:\n",
    "    if col != 'purpose_credit_card':\n",
    "        corr_coefficient, p_value = stats.pointbiserialr(dfpoint['purpose_credit_card'], dfpoint[col])\n",
    "        correlation_coefficients[col] = corr_coefficient\n",
    "correlation_table = pd.DataFrame(correlation_coefficients.items(), columns=['Variable', 'Point Biserial Correlation Coefficient'])\n",
    "\n",
    "print(correlation_table)"
   ]
  },
  {
   "cell_type": "code",
   "execution_count": null,
   "id": "950f9076",
   "metadata": {},
   "outputs": [],
   "source": [
    "correlation_coefficients = {}\n",
    "for col in dfpoint.columns:\n",
    "    if col != 'purpose_debt_consolidation':\n",
    "        corr_coefficient, p_value = stats.pointbiserialr(dfpoint['purpose_debt_consolidation'], dfpoint[col])\n",
    "        correlation_coefficients[col] = corr_coefficient\n",
    "correlation_table = pd.DataFrame(correlation_coefficients.items(), columns=['Variable', 'Point Biserial Correlation Coefficient'])\n",
    "\n",
    "print(correlation_table)"
   ]
  },
  {
   "cell_type": "code",
   "execution_count": null,
   "id": "b8d85019",
   "metadata": {},
   "outputs": [],
   "source": [
    "correlation_coefficients = {}\n",
    "for col in dfpoint.columns:\n",
    "    if col != 'purpose_home_improvement':\n",
    "        corr_coefficient, p_value = stats.pointbiserialr(dfpoint['purpose_home_improvement'], dfpoint[col])\n",
    "        correlation_coefficients[col] = corr_coefficient\n",
    "correlation_table = pd.DataFrame(correlation_coefficients.items(), columns=['Variable', 'Point Biserial Correlation Coefficient'])\n",
    "\n",
    "print(correlation_table)"
   ]
  },
  {
   "cell_type": "code",
   "execution_count": null,
   "id": "fd446831",
   "metadata": {},
   "outputs": [],
   "source": [
    "correlation_coefficients = {}\n",
    "for col in dfpoint.columns:\n",
    "    if col != 'purpose_house':\n",
    "        corr_coefficient, p_value = stats.pointbiserialr(dfpoint['purpose_house'], dfpoint[col])\n",
    "        correlation_coefficients[col] = corr_coefficient\n",
    "correlation_table = pd.DataFrame(correlation_coefficients.items(), columns=['Variable', 'Point Biserial Correlation Coefficient'])\n",
    "\n",
    "print(correlation_table)"
   ]
  },
  {
   "cell_type": "code",
   "execution_count": null,
   "id": "edbb2d80",
   "metadata": {},
   "outputs": [],
   "source": [
    "correlation_coefficients = {}\n",
    "for col in dfpoint.columns:\n",
    "    if col != 'purpose_major_purchase':\n",
    "        corr_coefficient, p_value = stats.pointbiserialr(dfpoint['purpose_major_purchase'], dfpoint[col])\n",
    "        correlation_coefficients[col] = corr_coefficient\n",
    "correlation_table = pd.DataFrame(correlation_coefficients.items(), columns=['Variable', 'Point Biserial Correlation Coefficient'])\n",
    "\n",
    "print(correlation_table)"
   ]
  },
  {
   "cell_type": "code",
   "execution_count": null,
   "id": "8b7b22f7",
   "metadata": {},
   "outputs": [],
   "source": [
    "correlation_coefficients = {}\n",
    "for col in dfpoint.columns:\n",
    "    if col != 'purpose_medical':\n",
    "        corr_coefficient, p_value = stats.pointbiserialr(dfpoint['purpose_medical'], dfpoint[col])\n",
    "        correlation_coefficients[col] = corr_coefficient\n",
    "correlation_table = pd.DataFrame(correlation_coefficients.items(), columns=['Variable', 'Point Biserial Correlation Coefficient'])\n",
    "\n",
    "print(correlation_table)"
   ]
  },
  {
   "cell_type": "code",
   "execution_count": null,
   "id": "6f11f8ed",
   "metadata": {},
   "outputs": [],
   "source": [
    "correlation_coefficients = {}\n",
    "for col in dfpoint.columns:\n",
    "    if col != 'purpose_moving':\n",
    "        corr_coefficient, p_value = stats.pointbiserialr(dfpoint['purpose_moving'], dfpoint[col])\n",
    "        correlation_coefficients[col] = corr_coefficient\n",
    "correlation_table = pd.DataFrame(correlation_coefficients.items(), columns=['Variable', 'Point Biserial Correlation Coefficient'])\n",
    "\n",
    "print(correlation_table)"
   ]
  },
  {
   "cell_type": "code",
   "execution_count": null,
   "id": "fe2a1a0d",
   "metadata": {},
   "outputs": [],
   "source": [
    "correlation_coefficients = {}\n",
    "for col in dfpoint.columns:\n",
    "    if col != 'purpose_other':\n",
    "        corr_coefficient, p_value = stats.pointbiserialr(dfpoint['purpose_other'], dfpoint[col])\n",
    "        correlation_coefficients[col] = corr_coefficient\n",
    "correlation_table = pd.DataFrame(correlation_coefficients.items(), columns=['Variable', 'Point Biserial Correlation Coefficient'])\n",
    "\n",
    "print(correlation_table)"
   ]
  },
  {
   "cell_type": "code",
   "execution_count": null,
   "id": "1045b336",
   "metadata": {},
   "outputs": [],
   "source": [
    "correlation_coefficients = {}\n",
    "for col in dfpoint.columns:\n",
    "    if col != 'purpose_renewable_energy':\n",
    "        corr_coefficient, p_value = stats.pointbiserialr(dfpoint['purpose_renewable_energy'], dfpoint[col])\n",
    "        correlation_coefficients[col] = corr_coefficient\n",
    "correlation_table = pd.DataFrame(correlation_coefficients.items(), columns=['Variable', 'Point Biserial Correlation Coefficient'])\n",
    "\n",
    "print(correlation_table)"
   ]
  },
  {
   "cell_type": "code",
   "execution_count": null,
   "id": "555b7979",
   "metadata": {},
   "outputs": [],
   "source": [
    "correlation_coefficients = {}\n",
    "for col in dfpoint.columns:\n",
    "    if col != 'purpose_small_business':\n",
    "        corr_coefficient, p_value = stats.pointbiserialr(dfpoint['purpose_small_business'], dfpoint[col])\n",
    "        correlation_coefficients[col] = corr_coefficient\n",
    "correlation_table = pd.DataFrame(correlation_coefficients.items(), columns=['Variable', 'Point Biserial Correlation Coefficient'])\n",
    "\n",
    "print(correlation_table)"
   ]
  },
  {
   "cell_type": "code",
   "execution_count": null,
   "id": "af5d56c4",
   "metadata": {},
   "outputs": [],
   "source": [
    "correlation_coefficients = {}\n",
    "for col in dfpoint.columns:\n",
    "    if col != 'purpose_vacation':\n",
    "        corr_coefficient, p_value = stats.pointbiserialr(dfpoint['purpose_vacation'], dfpoint[col])\n",
    "        correlation_coefficients[col] = corr_coefficient\n",
    "correlation_table = pd.DataFrame(correlation_coefficients.items(), columns=['Variable', 'Point Biserial Correlation Coefficient'])\n",
    "\n",
    "print(correlation_table)"
   ]
  },
  {
   "cell_type": "code",
   "execution_count": null,
   "id": "2b32ec01",
   "metadata": {},
   "outputs": [],
   "source": [
    "correlation_coefficients = {}\n",
    "for col in dfpoint.columns:\n",
    "    if col != 'purpose_wedding':\n",
    "        corr_coefficient, p_value = stats.pointbiserialr(dfpoint['purpose_wedding'], dfpoint[col])\n",
    "        correlation_coefficients[col] = corr_coefficient\n",
    "correlation_table = pd.DataFrame(correlation_coefficients.items(), columns=['Variable', 'Point Biserial Correlation Coefficient'])\n",
    "\n",
    "print(correlation_table)"
   ]
  },
  {
   "cell_type": "code",
   "execution_count": null,
   "id": "60011b6e",
   "metadata": {},
   "outputs": [],
   "source": [
    "from scipy.stats import pointbiserialr\n",
    "\n",
    "correlation_matrix = dfpoint.corr(method=lambda x, y: pointbiserialr(x, y)[0])"
   ]
  },
  {
   "cell_type": "code",
   "execution_count": null,
   "id": "7b46a5e5",
   "metadata": {},
   "outputs": [],
   "source": [
    "mask = np.triu(np.ones_like(correlation_matrix, dtype=bool))\n",
    "\n",
    "plt.figure(figsize=(16, 8))\n",
    "sb.heatmap(correlation_matrix, annot=True, fmt=\".2f\", cmap='coolwarm', mask=mask)\n",
    "plt.title('Point-Biserial Correlation Coefficient')\n",
    "plt.show()\n"
   ]
  },
  {
   "cell_type": "markdown",
   "id": "33bfb88c",
   "metadata": {},
   "source": [
    "# finish the point biserial"
   ]
  },
  {
   "cell_type": "code",
   "execution_count": null,
   "id": "e1fc99c0",
   "metadata": {},
   "outputs": [],
   "source": [
    "from sklearn.preprocessing import LabelEncoder \n"
   ]
  },
  {
   "cell_type": "code",
   "execution_count": null,
   "id": "d9781467",
   "metadata": {},
   "outputs": [],
   "source": [
    "categorical_feature = df.dtypes == object\n",
    "categorical_col= df.columns[ categorical_feature].tolist()"
   ]
  },
  {
   "cell_type": "code",
   "execution_count": null,
   "id": "d5662bd9",
   "metadata": {},
   "outputs": [],
   "source": [
    "categorical_col"
   ]
  },
  {
   "cell_type": "code",
   "execution_count": null,
   "id": "eaa943fc",
   "metadata": {},
   "outputs": [],
   "source": [
    "encoder = LabelEncoder()\n",
    "encoded_columns={}\n",
    "for col in df.columns:\n",
    "    if df[col].dtypes== 'object':\n",
    "        encoded_columns[col] = f'{col}_encoded'\n",
    "        df[encoded_columns[col]] = encoder.fit_transform(df[col])\n",
    "            "
   ]
  },
  {
   "cell_type": "code",
   "execution_count": null,
   "id": "eed66864",
   "metadata": {},
   "outputs": [],
   "source": [
    "print(encoded_columns)"
   ]
  },
  {
   "cell_type": "code",
   "execution_count": null,
   "id": "f5c49d2a",
   "metadata": {},
   "outputs": [],
   "source": [
    "df['grade_encoded']"
   ]
  },
  {
   "cell_type": "code",
   "execution_count": null,
   "id": "9c33949f",
   "metadata": {},
   "outputs": [],
   "source": [
    "df.columns"
   ]
  },
  {
   "cell_type": "code",
   "execution_count": null,
   "id": "363c4626",
   "metadata": {},
   "outputs": [],
   "source": [
    "df.shape"
   ]
  },
  {
   "cell_type": "code",
   "execution_count": null,
   "id": "84fb34a7",
   "metadata": {},
   "outputs": [],
   "source": [
    "df1= df[['sub_grade_encoded','int_rate','loan_amnt','annual_inc', 'emp_length',\\\n",
    "      'delinq_2yrs', 'inq_last_6mths', 'pub_rec', 'revol_util', 'loanamounttoannualincome'\\\n",
    "        , 'dti', 'annualinstallmenttoannualincome']]"
   ]
  },
  {
   "cell_type": "code",
   "execution_count": null,
   "id": "2415eac5",
   "metadata": {},
   "outputs": [],
   "source": [
    "mask= np.triu(np.ones_like(df1.corr(), dtype=bool))\n",
    "plt.figure(figsize =(15,20))\n",
    "sb.heatmap(df1.corr(),annot=True, cmap= 'Blues', mask=mask)"
   ]
  },
  {
   "cell_type": "code",
   "execution_count": null,
   "id": "b7578119",
   "metadata": {},
   "outputs": [],
   "source": [
    "import scipy.stats as stats"
   ]
  },
  {
   "cell_type": "code",
   "execution_count": null,
   "id": "69b00674",
   "metadata": {},
   "outputs": [],
   "source": [
    "df.columns"
   ]
  },
  {
   "cell_type": "code",
   "execution_count": null,
   "id": "dfd8ae57",
   "metadata": {},
   "outputs": [],
   "source": [
    "df1.columns"
   ]
  },
  {
   "cell_type": "code",
   "execution_count": null,
   "id": "42157b0c",
   "metadata": {},
   "outputs": [],
   "source": [
    "from scipy.stats import pointbiserialr\n",
    "\n",
    "correlation_matrix = df1.corr(method=lambda x, y: pointbiserialr(x, y)[0])"
   ]
  },
  {
   "cell_type": "code",
   "execution_count": null,
   "id": "55ae27cb",
   "metadata": {},
   "outputs": [],
   "source": [
    "correlation_matrix"
   ]
  },
  {
   "cell_type": "code",
   "execution_count": null,
   "id": "12aa1140",
   "metadata": {},
   "outputs": [],
   "source": [
    "mask = np.triu(np.ones_like(correlation_matrix, dtype=bool))\n",
    "\n",
    "plt.figure(figsize=(6, 8))\n",
    "sb.heatmap(correlation_matrix, annot=True, fmt=\".2f\", cmap='coolwarm', mask=mask)\n",
    "plt.title('Point-Biserial Correlation Coefficient')\n",
    "plt.show()\n"
   ]
  },
  {
   "cell_type": "code",
   "execution_count": null,
   "id": "4aada370",
   "metadata": {},
   "outputs": [],
   "source": [
    "df['purpose'].unique()"
   ]
  },
  {
   "cell_type": "code",
   "execution_count": null,
   "id": "5d8ce5b6",
   "metadata": {},
   "outputs": [],
   "source": [
    "\n",
    "selected_columns = ['sub_grade', 'int_rate', 'home_ownership', 'purpose']\n",
    "df_selected = df[selected_columns]\n"
   ]
  },
  {
   "cell_type": "code",
   "execution_count": null,
   "id": "e07c9f26",
   "metadata": {},
   "outputs": [],
   "source": [
    "\n",
    "# Separate house situation values: rent, mortgage, and own\n",
    "df_rent = df_selected[df_selected['home_ownership'] == 'Rent']\n",
    "df_mortgage = df_selected[df_selected['home_ownership'] == 'Mortgage']\n",
    "df_own = df_selected[df_selected['home_ownership'] == 'Own']\n",
    "\n",
    "# Separate purpose of loan values: wedding, car, home improvement, and debt\n",
    "df_wedding = df_selected[df_selected['purpose'] == 'wedding']\n",
    "df_car = df_selected[df_selected['purpose'] == 'car']\n",
    "df_home_improvement = df_selected[df_selected['purpose'] == 'home improvement']\n",
    "df_debt = df_selected[df_selected['purpose'] == 'debt']\n",
    "df_credit= df_selected[df_selected['purpose']== 'credit_card']\n",
    "df_business= df_selected[df_selected['purpose']== 'small_business']\n",
    "df_other= df_selected[df_selected['purpose']== 'other']\n",
    "df_debt= df_selected[df_selected['purpose']== 'debt_cosidalation']\n",
    "df_major= df_selected[df_selected['purpose']== 'major_purchase']\n",
    "df_medical= df_selected[df_selected['purpose']== 'medical']\n",
    "df_vacation= df_selected[df_selected['purpose']== 'vacation']\n",
    "df_house= df_selected[df_selected['purpose']== 'house']\n",
    "df_move= df_selected[df_selected['purpose']== 'moving']\n",
    "df_energy= df_selected[df_selected['purpose']== 'renewable_energy']\n"
   ]
  },
  {
   "cell_type": "code",
   "execution_count": null,
   "id": "f4b62b75",
   "metadata": {},
   "outputs": [],
   "source": [
    "# Define a function to calculate point-biserial correlation for each subset\n",
    "correlation_matrix2= df.corr(method=lambda x, y: pointbiserialr(x, y)[0])\n",
    "mask = np.triu(np.ones_like(correlation_matrix2, dtype=bool))\n",
    "plt.figure(figsize=(18, 16))\n",
    "sb.heatmap(correlation_matrix2, annot=True, fmt=\".2f\", cmap='coolwarm', mask=mask)\n",
    "plt.title('Point-Biserial Correlation Coefficient')\n",
    "plt.show()\n"
   ]
  },
  {
   "cell_type": "code",
   "execution_count": null,
   "id": "0f2f4aac",
   "metadata": {},
   "outputs": [],
   "source": [
    "correlation_matrix2"
   ]
  },
  {
   "cell_type": "code",
   "execution_count": null,
   "id": "0fdb1215",
   "metadata": {},
   "outputs": [],
   "source": [
    "    correlation_matrix = df.corr(method=lambda x, y: pointbiserialr(x, y)[0])\n",
    "    mask = np.triu(np.ones_like(correlation_matrix, dtype=bool))\n",
    "    plt.figure(figsize=(18, 16))\n",
    "    sb.heatmap(correlation_matrix, annot=True, fmt=\".2f\", cmap='coolwarm', mask=mask)\n",
    "    plt.title('Point-Biserial Correlation Coefficient')\n",
    "    plt.show()"
   ]
  },
  {
   "cell_type": "code",
   "execution_count": null,
   "id": "a6e11861",
   "metadata": {},
   "outputs": [],
   "source": [
    "correlation_coefficient, p_value = pointbiserialr(df['sub_grade_encoded'], df['int_rate'])\n"
   ]
  },
  {
   "cell_type": "code",
   "execution_count": null,
   "id": "5964aa08",
   "metadata": {},
   "outputs": [],
   "source": [
    "correlation_coefficient"
   ]
  },
  {
   "cell_type": "code",
   "execution_count": null,
   "id": "bd499aad",
   "metadata": {},
   "outputs": [],
   "source": [
    "p_value"
   ]
  },
  {
   "cell_type": "code",
   "execution_count": null,
   "id": "ef391516",
   "metadata": {},
   "outputs": [],
   "source": [
    "tabel=df.groupby('loan_status')['grade'].value_counts(normalize=True).unstack(fill_value=0).mul(100).rename(columns={0 : 'yes', 1 :'No'})"
   ]
  },
  {
   "cell_type": "code",
   "execution_count": null,
   "id": "74c0a433",
   "metadata": {},
   "outputs": [],
   "source": [
    "tabel"
   ]
  },
  {
   "cell_type": "code",
   "execution_count": null,
   "id": "be1b561b",
   "metadata": {},
   "outputs": [],
   "source": [
    "from scipy.stats import chi2_contingency\n"
   ]
  },
  {
   "cell_type": "code",
   "execution_count": null,
   "id": "39355093",
   "metadata": {},
   "outputs": [],
   "source": [
    "chi2_contingency(tabel)\n"
   ]
  },
  {
   "cell_type": "code",
   "execution_count": null,
   "id": "320c0ade",
   "metadata": {},
   "outputs": [],
   "source": [
    "tabel1=df.groupby('loan_status')['purpose'].value_counts(normalize=True).unstack(fill_value=0).mul(100).rename(columns={0 : 'yes', 1 :'No'})"
   ]
  },
  {
   "cell_type": "code",
   "execution_count": null,
   "id": "b555e76d",
   "metadata": {},
   "outputs": [],
   "source": [
    "tabel1"
   ]
  },
  {
   "cell_type": "code",
   "execution_count": null,
   "id": "9ae3c11b",
   "metadata": {},
   "outputs": [],
   "source": [
    "chi2_contingency(tabel1)\n"
   ]
  },
  {
   "cell_type": "code",
   "execution_count": null,
   "id": "fe1470e3",
   "metadata": {},
   "outputs": [],
   "source": [
    "df.groupby('loan_status')['dti'].value_counts(normalize=True).unstack(fill_value=0).mul(100).rename(columns={0 : 'yes', 1 :'No'})"
   ]
  },
  {
   "cell_type": "code",
   "execution_count": null,
   "id": "40690d3d",
   "metadata": {},
   "outputs": [],
   "source": [
    "df.groupby('loan_status')['annual_inc'].value_counts(normalize=True).unstack(fill_value=0).mul(100).rename(columns={0 : 'yes', 1 :'No'})"
   ]
  },
  {
   "cell_type": "code",
   "execution_count": null,
   "id": "3b583e68",
   "metadata": {},
   "outputs": [],
   "source": [
    "observation=df.groupby('loan_status')['annual_inc'].value_counts(normalize=True).unstack(fill_value=0).mul(100).rename(columns={0 : 'yes', 1 :'No'})"
   ]
  },
  {
   "cell_type": "code",
   "execution_count": null,
   "id": "febe3bb7",
   "metadata": {},
   "outputs": [],
   "source": [
    "stats.chi2_contingency(observation)\n"
   ]
  },
  {
   "cell_type": "code",
   "execution_count": null,
   "id": "c5427de2",
   "metadata": {},
   "outputs": [],
   "source": [
    "chi2_contingency(observation)\n"
   ]
  },
  {
   "cell_type": "code",
   "execution_count": null,
   "id": "356a427d",
   "metadata": {},
   "outputs": [],
   "source": [
    "tabel4=df.groupby('loan_status')['home_ownership'].value_counts(normalize=True).unstack(fill_value=0).mul(100).rename(columns={0 : 'yes', 1 :'No'})"
   ]
  },
  {
   "cell_type": "code",
   "execution_count": null,
   "id": "73043f94",
   "metadata": {},
   "outputs": [],
   "source": [
    "tabel4"
   ]
  },
  {
   "cell_type": "code",
   "execution_count": null,
   "id": "ce1697c9",
   "metadata": {},
   "outputs": [],
   "source": [
    "chi2_contingency(tabel4)\n"
   ]
  },
  {
   "cell_type": "code",
   "execution_count": null,
   "id": "f23481c4",
   "metadata": {},
   "outputs": [],
   "source": [
    "df1.describe(include='all')"
   ]
  },
  {
   "cell_type": "code",
   "execution_count": null,
   "id": "cce74162",
   "metadata": {},
   "outputs": [],
   "source": []
  },
  {
   "cell_type": "code",
   "execution_count": null,
   "id": "39db6a4d",
   "metadata": {},
   "outputs": [],
   "source": [
    "df.describe(include='all')"
   ]
  },
  {
   "cell_type": "code",
   "execution_count": null,
   "id": "240495e8",
   "metadata": {},
   "outputs": [],
   "source": [
    "from scipy.stats import chi2_contingency\n"
   ]
  },
  {
   "cell_type": "code",
   "execution_count": null,
   "id": "77117ce7",
   "metadata": {},
   "outputs": [],
   "source": [
    "contingency_table = pd.crosstab(df['purpose'], df['loan_status'])\n"
   ]
  },
  {
   "cell_type": "code",
   "execution_count": null,
   "id": "7ce9f7e4",
   "metadata": {},
   "outputs": [],
   "source": [
    "contingency_table"
   ]
  },
  {
   "cell_type": "code",
   "execution_count": null,
   "id": "e9fb351f",
   "metadata": {},
   "outputs": [],
   "source": [
    "contingency_table2 = pd.crosstab(df['grade'], df['loan_status'])\n",
    "contingency_table2"
   ]
  },
  {
   "cell_type": "code",
   "execution_count": null,
   "id": "425a3ad8",
   "metadata": {},
   "outputs": [],
   "source": [
    "chi2, p, dof, expected = chi2_contingency(contingency_table2)\n",
    "chi2, p, dof, expected"
   ]
  },
  {
   "cell_type": "code",
   "execution_count": null,
   "id": "21ba7772",
   "metadata": {},
   "outputs": [],
   "source": [
    "df.columns"
   ]
  },
  {
   "cell_type": "code",
   "execution_count": null,
   "id": "a83aaddb",
   "metadata": {},
   "outputs": [],
   "source": [
    "contingency_table3 = pd.crosstab(df['home_ownership'], df['loan_status'])\n",
    "contingency_table3"
   ]
  },
  {
   "cell_type": "code",
   "execution_count": null,
   "id": "6e55760a",
   "metadata": {},
   "outputs": [],
   "source": [
    "#chi2, p, dof, expected = chi2_contingency(contingency_table3)\n",
    "#chi2, p, dof, expected"
   ]
  },
  {
   "cell_type": "code",
   "execution_count": null,
   "id": "2795989e",
   "metadata": {},
   "outputs": [],
   "source": [
    "chi2, p, dof, expected = chi2_contingency(contingency_table)\n",
    "chi2, p, dof, expected"
   ]
  },
  {
   "cell_type": "code",
   "execution_count": null,
   "id": "ad08dcd8",
   "metadata": {},
   "outputs": [],
   "source": [
    "print(f\"Chi-squared value: {chi2:.4f}\")\n",
    "print(f\"P-value: {p:.4f}\")\n",
    "print(f\"Degrees of freedom: {dof}\")\n",
    "print(\"Expected frequencies:\")\n",
    "print(expected)"
   ]
  },
  {
   "cell_type": "code",
   "execution_count": null,
   "id": "49538c95",
   "metadata": {},
   "outputs": [],
   "source": [
    "df.select_dtypes(include='datetime').columns"
   ]
  },
  {
   "cell_type": "code",
   "execution_count": null,
   "id": "be662cbc",
   "metadata": {},
   "outputs": [],
   "source": [
    "df.columns"
   ]
  },
  {
   "cell_type": "code",
   "execution_count": null,
   "id": "b14a4700",
   "metadata": {},
   "outputs": [],
   "source": [
    "df.info()"
   ]
  },
  {
   "cell_type": "code",
   "execution_count": null,
   "id": "58f6b6fe",
   "metadata": {},
   "outputs": [],
   "source": [
    "from sklearn.preprocessing import LabelEncoder"
   ]
  },
  {
   "cell_type": "code",
   "execution_count": null,
   "id": "da36fa01",
   "metadata": {},
   "outputs": [],
   "source": [
    "df.info()"
   ]
  },
  {
   "cell_type": "code",
   "execution_count": null,
   "id": "e30d3269",
   "metadata": {},
   "outputs": [],
   "source": [
    "categorical_col= df.dtypes==object\n",
    "categorical_columns= df.columns[categorical_col].tolist()"
   ]
  },
  {
   "cell_type": "code",
   "execution_count": null,
   "id": "af9f7005",
   "metadata": {},
   "outputs": [],
   "source": [
    "categorical_columns"
   ]
  },
  {
   "cell_type": "code",
   "execution_count": null,
   "id": "3f329ef7",
   "metadata": {},
   "outputs": [],
   "source": [
    "df['loan_status'].unique()"
   ]
  },
  {
   "cell_type": "code",
   "execution_count": null,
   "id": "3cf27a6c",
   "metadata": {},
   "outputs": [],
   "source": [
    "df['loanstatuse'] = (df['loan_status']=='Charged Off').apply(np.uint8)"
   ]
  },
  {
   "cell_type": "code",
   "execution_count": null,
   "id": "a8bfb6d6",
   "metadata": {},
   "outputs": [],
   "source": [
    "df['loanstatuse']"
   ]
  },
  {
   "cell_type": "code",
   "execution_count": null,
   "id": "a9b956f0",
   "metadata": {},
   "outputs": [],
   "source": [
    "df.drop('loan_status', axis=1, inplace=True)"
   ]
  },
  {
   "cell_type": "code",
   "execution_count": null,
   "id": "48255651",
   "metadata": {},
   "outputs": [],
   "source": [
    "df1.info()"
   ]
  },
  {
   "cell_type": "code",
   "execution_count": null,
   "id": "edfa843d",
   "metadata": {},
   "outputs": [],
   "source": [
    "encoder = LabelEncoder()\n",
    "encoded_columns={}\n",
    "for col in df.columns:\n",
    "    if df[col].dtypes== 'object':\n",
    "        encoded_columns[col] = f'{col}_encoded'\n",
    "        df[encoded_columns[col]] = encoder.fit_transform(df[col])\n",
    "            "
   ]
  },
  {
   "cell_type": "code",
   "execution_count": null,
   "id": "4e2f8489",
   "metadata": {},
   "outputs": [],
   "source": [
    "df.info()"
   ]
  },
  {
   "cell_type": "code",
   "execution_count": null,
   "id": "746c0e1e",
   "metadata": {},
   "outputs": [],
   "source": [
    "df.select_dtypes(include='datetime').columns"
   ]
  },
  {
   "cell_type": "code",
   "execution_count": null,
   "id": "b6c52d40",
   "metadata": {},
   "outputs": [],
   "source": [
    "#reference_date = df[df.select_dtypes(include='datetime').columns].min()  # Use the earliest date in your datetime column\n"
   ]
  },
  {
   "cell_type": "code",
   "execution_count": null,
   "id": "b37be1f3",
   "metadata": {},
   "outputs": [],
   "source": [
    "#reference_date"
   ]
  },
  {
   "cell_type": "code",
   "execution_count": null,
   "id": "82c5b392",
   "metadata": {},
   "outputs": [],
   "source": [
    "#df['reference_date']= reference_date"
   ]
  },
  {
   "cell_type": "code",
   "execution_count": null,
   "id": "7561860a",
   "metadata": {},
   "outputs": [],
   "source": [
    "#df['issue_d'] = pd.to_datetime(df['issue_d'])\n",
    "#df['last_pymnt_d'] = pd.to_datetime(df['last_pymnt_d'])\n"
   ]
  },
  {
   "cell_type": "code",
   "execution_count": null,
   "id": "939d7df5",
   "metadata": {},
   "outputs": [],
   "source": [
    "#df['days_since_issue'] =(reference_date - df['issue_d']).dt.days\n",
    "#df['days_since_last_pymnt'] = (reference_date - df['last_pymnt_d']).dt.days"
   ]
  },
  {
   "cell_type": "code",
   "execution_count": null,
   "id": "046164cb",
   "metadata": {},
   "outputs": [],
   "source": [
    "#print(df[['last_pymnt_d', 'days_since_last_pymnt']].head())\n"
   ]
  },
  {
   "cell_type": "code",
   "execution_count": null,
   "id": "f02e36ba",
   "metadata": {},
   "outputs": [],
   "source": [
    "#df[['days_since_issue', 'days_since_last_pymnt']]"
   ]
  },
  {
   "cell_type": "code",
   "execution_count": null,
   "id": "7fe5834f",
   "metadata": {},
   "outputs": [],
   "source": [
    "df.columns"
   ]
  },
  {
   "cell_type": "code",
   "execution_count": null,
   "id": "7ad3ee3d",
   "metadata": {},
   "outputs": [],
   "source": [
    "df.isnull().sum()"
   ]
  },
  {
   "cell_type": "code",
   "execution_count": null,
   "id": "72855203",
   "metadata": {},
   "outputs": [],
   "source": [
    "#sb.pairplot(df)"
   ]
  },
  {
   "cell_type": "code",
   "execution_count": null,
   "id": "c8f69aaa",
   "metadata": {},
   "outputs": [],
   "source": [
    "sb.histplot(df['grade'])"
   ]
  },
  {
   "cell_type": "code",
   "execution_count": null,
   "id": "fd0b9196",
   "metadata": {},
   "outputs": [],
   "source": [
    "sb.histplot(df['sub_grade'])"
   ]
  },
  {
   "cell_type": "code",
   "execution_count": null,
   "id": "30da3fd4",
   "metadata": {},
   "outputs": [],
   "source": [
    "sb.histplot(df['purpose'])"
   ]
  },
  {
   "cell_type": "code",
   "execution_count": null,
   "id": "2a2f946e",
   "metadata": {},
   "outputs": [],
   "source": [
    "sb.histplot(df['dti'])"
   ]
  },
  {
   "cell_type": "markdown",
   "id": "06968b4a",
   "metadata": {},
   "source": [
    "logistic regression models"
   ]
  },
  {
   "cell_type": "code",
   "execution_count": null,
   "id": "f1518a7f",
   "metadata": {},
   "outputs": [],
   "source": [
    "from sklearn.utils import shuffle"
   ]
  },
  {
   "cell_type": "code",
   "execution_count": null,
   "id": "ff127dce",
   "metadata": {},
   "outputs": [],
   "source": [
    "from sklearn.model_selection import train_test_split"
   ]
  },
  {
   "cell_type": "code",
   "execution_count": null,
   "id": "b5c79226",
   "metadata": {},
   "outputs": [],
   "source": [
    "df.columns"
   ]
  },
  {
   "cell_type": "code",
   "execution_count": null,
   "id": "f38824b6",
   "metadata": {},
   "outputs": [],
   "source": [
    "x= df[['sub_grade_encoded']]\n",
    "x"
   ]
  },
  {
   "cell_type": "code",
   "execution_count": null,
   "id": "c704a871",
   "metadata": {},
   "outputs": [],
   "source": [
    "x.shape"
   ]
  },
  {
   "cell_type": "code",
   "execution_count": null,
   "id": "68282393",
   "metadata": {},
   "outputs": [],
   "source": [
    "y= df['loanstatus']\n",
    "y"
   ]
  },
  {
   "cell_type": "code",
   "execution_count": null,
   "id": "7c157d41",
   "metadata": {},
   "outputs": [],
   "source": [
    "x_train, x_test , y_train, y_test = train_test_split(x, y , train_size=0.7)\n",
    "x_train, x_test , y_train, y_test "
   ]
  },
  {
   "cell_type": "code",
   "execution_count": null,
   "id": "6892752d",
   "metadata": {},
   "outputs": [],
   "source": [
    "x_train.shape"
   ]
  },
  {
   "cell_type": "code",
   "execution_count": null,
   "id": "e84551c8",
   "metadata": {},
   "outputs": [],
   "source": [
    "from sklearn.preprocessing import StandardScaler"
   ]
  },
  {
   "cell_type": "code",
   "execution_count": null,
   "id": "c24228e4",
   "metadata": {},
   "outputs": [],
   "source": [
    "from sklearn import linear_model"
   ]
  },
  {
   "cell_type": "code",
   "execution_count": null,
   "id": "64b381b9",
   "metadata": {},
   "outputs": [],
   "source": [
    "scaled= StandardScaler()"
   ]
  },
  {
   "cell_type": "code",
   "execution_count": null,
   "id": "f44cecd6",
   "metadata": {},
   "outputs": [],
   "source": [
    "x_train_scaled = scaled.fit_transform(x_train)\n",
    "x_test_scaled= scaled.transform(x_test)"
   ]
  },
  {
   "cell_type": "code",
   "execution_count": null,
   "id": "dc7b27af",
   "metadata": {},
   "outputs": [],
   "source": [
    "logrscal1= linear_model.LogisticRegression()\n",
    "logrscal1.fit(x_train_scaled, y_train)"
   ]
  },
  {
   "cell_type": "code",
   "execution_count": null,
   "id": "ee00ef85",
   "metadata": {},
   "outputs": [],
   "source": [
    "log_oddscal1= logrscal1.coef_\n",
    "log_oddscal1"
   ]
  },
  {
   "cell_type": "code",
   "execution_count": null,
   "id": "fc864193",
   "metadata": {},
   "outputs": [],
   "source": [
    "yscal_pred= logrscal1.predict(x_test_scaled)\n",
    "yscal_pred"
   ]
  },
  {
   "cell_type": "code",
   "execution_count": null,
   "id": "a2b38098",
   "metadata": {},
   "outputs": [],
   "source": [
    "con_mat = confusion_matrix(y_test, yscal_pred)\n",
    "sb.heatmap(con_mat, annot=True, annot_kws={\"size\": 20},cmap=\"summer_r\", xticklabels=np.unique(df.loanstatus),\n",
    "           yticklabels=np.unique(df.loanstatuse))\n",
    "plt.title(\"Confusion Matrix of the classifier\")\n",
    "plt.ylabel('Actual labels')\n",
    "plt.xlabel('Predicted labels')\n",
    "plt.show()"
   ]
  },
  {
   "cell_type": "code",
   "execution_count": null,
   "id": "4a3e1070",
   "metadata": {},
   "outputs": [],
   "source": [
    "print(classification_report(y_test,yscal_pred))"
   ]
  },
  {
   "cell_type": "code",
   "execution_count": null,
   "id": "ed412dc7",
   "metadata": {},
   "outputs": [],
   "source": [
    "print(\"Accuracy:\",accuracy_score(y_test, yscal_pred))"
   ]
  },
  {
   "cell_type": "markdown",
   "id": "d2e75055",
   "metadata": {},
   "source": [
    "without scaling features column:"
   ]
  },
  {
   "cell_type": "code",
   "execution_count": null,
   "id": "6ced8c5d",
   "metadata": {},
   "outputs": [],
   "source": [
    "logr= linear_model.LogisticRegression()\n",
    "logr.fit(x_train,y_train) \n"
   ]
  },
  {
   "cell_type": "code",
   "execution_count": null,
   "id": "2ab27223",
   "metadata": {},
   "outputs": [],
   "source": [
    "log_odd= logr.coef_\n",
    "log_odd"
   ]
  },
  {
   "cell_type": "code",
   "execution_count": null,
   "id": "4c05ae6f",
   "metadata": {},
   "outputs": [],
   "source": [
    "logr.intercept_"
   ]
  },
  {
   "cell_type": "code",
   "execution_count": null,
   "id": "658d240a",
   "metadata": {},
   "outputs": [],
   "source": [
    "log_reg = LogisticRegression(random_state = 0, solver='lbfgs', multi_class='auto')\n",
    "log_reg.fit(x_train, y_train)\n",
    "y_pred = log_reg.predict(x_test)"
   ]
  },
  {
   "cell_type": "code",
   "execution_count": null,
   "id": "6787a2cb",
   "metadata": {},
   "outputs": [],
   "source": [
    "y_pred"
   ]
  },
  {
   "cell_type": "code",
   "execution_count": null,
   "id": "b3769166",
   "metadata": {},
   "outputs": [],
   "source": [
    "con_mat = confusion_matrix(y_test, y_pred)\n",
    "sb.heatmap(con_mat, annot=True, annot_kws={\"size\": 20},cmap=\"summer_r\", xticklabels=np.unique(df.loanstatus),\n",
    "           yticklabels=np.unique(df.loanstatuse))\n",
    "plt.title(\"Confusion Matrix of the classifier\")\n",
    "plt.ylabel('Actual labels')\n",
    "plt.xlabel('Predicted labels')\n",
    "plt.show()"
   ]
  },
  {
   "cell_type": "code",
   "execution_count": null,
   "id": "10435607",
   "metadata": {},
   "outputs": [],
   "source": [
    "print(\"Accuracy:\",accuracy_score(y_test, y_pred))"
   ]
  },
  {
   "cell_type": "code",
   "execution_count": null,
   "id": "6a4208bf",
   "metadata": {},
   "outputs": [],
   "source": [
    "log_reg.coef_  "
   ]
  },
  {
   "cell_type": "code",
   "execution_count": null,
   "id": "78c3c899",
   "metadata": {},
   "outputs": [],
   "source": [
    "plt.figure(figsize =(15,8))\n",
    "sb.heatmap(df.corr(),annot=True, cmap= 'Blues')"
   ]
  },
  {
   "cell_type": "code",
   "execution_count": null,
   "id": "1693b2b1",
   "metadata": {},
   "outputs": [],
   "source": [
    "from scipy.stats import spearmanr"
   ]
  },
  {
   "cell_type": "code",
   "execution_count": null,
   "id": "9cb4f91d",
   "metadata": {},
   "outputs": [],
   "source": [
    "coef, p = spearmanr(df1,df1)\n",
    "coef, p"
   ]
  },
  {
   "cell_type": "code",
   "execution_count": null,
   "id": "75d40f54",
   "metadata": {},
   "outputs": [],
   "source": [
    "plt.figure(figsize =(15,8))\n",
    "sb.heatmap(coef,annot=True, cmap= 'Blues')"
   ]
  },
  {
   "cell_type": "code",
   "execution_count": null,
   "id": "02dcb999",
   "metadata": {},
   "outputs": [],
   "source": [
    "probs_y=log_reg.predict_proba(x_test) \n",
    "probs_y = np.round(probs_y, 2)\n",
    "result = pd.DataFrame(probs_y, columns= np.unique(df['loanstatus']))\n",
    "predictedt_index = [np.argmax(result.iloc[i,:]) for i in range(result.shape[0])]\n",
    "predicted_Status =[np.unique(df.loanstatus)[i] for i in predictedt_index]\n",
    "result.insert(loc=0, column=\"Test\", value=y_test)\n",
    "result.insert(loc=1, column ='Predicted', value=predicted_Status)\n",
    "result.sample(200)"
   ]
  },
  {
   "cell_type": "code",
   "execution_count": null,
   "id": "1c548f54",
   "metadata": {},
   "outputs": [],
   "source": [
    "import statsmodels.api as sm\n",
    "from scipy.stats import chi2"
   ]
  },
  {
   "cell_type": "code",
   "execution_count": null,
   "id": "2cb1d81a",
   "metadata": {},
   "outputs": [],
   "source": [
    "model = sm.Logit(y_train, x_train)\n",
    "result = model.fit()"
   ]
  },
  {
   "cell_type": "code",
   "execution_count": null,
   "id": "7de6b9d8",
   "metadata": {},
   "outputs": [],
   "source": [
    "print(result.summary())\n"
   ]
  },
  {
   "cell_type": "code",
   "execution_count": null,
   "id": "afafe757",
   "metadata": {},
   "outputs": [],
   "source": [
    "print(result.params)\n",
    "print(result.pvalues)"
   ]
  },
  {
   "cell_type": "code",
   "execution_count": null,
   "id": "481f4159",
   "metadata": {},
   "outputs": [],
   "source": [
    "np.round(2.612912e-135)"
   ]
  },
  {
   "cell_type": "code",
   "execution_count": null,
   "id": "00d87870",
   "metadata": {},
   "outputs": [],
   "source": [
    "p_values = result.pvalues\n",
    "\n",
    "# Identify significance levels\n",
    "significant_1_percent = p_values[p_values < 0.01]\n",
    "significant_5_percent = p_values[(p_values < 0.05) & (p_values >= 0.01)]\n",
    "significant_10_percent = p_values[(p_values < 0.10) & (p_values >= 0.05)]\n",
    "\n",
    "print(\"Significant at 1% level:\")\n",
    "print(significant_1_percent)\n",
    "\n",
    "print(\"Significant at 5% level:\")\n",
    "print(significant_5_percent)\n",
    "\n",
    "print(\"Significant at 10% level:\")\n",
    "print(significant_10_percent)"
   ]
  },
  {
   "cell_type": "code",
   "execution_count": null,
   "id": "931661a9",
   "metadata": {},
   "outputs": [],
   "source": [
    "y_pred"
   ]
  },
  {
   "cell_type": "code",
   "execution_count": null,
   "id": "e45c5377",
   "metadata": {},
   "outputs": [],
   "source": [
    "def hosmer_lemeshow_test(y, y_pred, g=10):\n",
    "    data = pd.DataFrame({'y': y, 'y_pred': y_pred})\n",
    "    data['decile'] = pd.qcut(data['y_pred'], g, duplicates='drop')\n",
    "\n",
    "    grouped = data.groupby('decile').agg({\n",
    "        'y': ['sum', 'count'],\n",
    "        'y_pred': 'mean'\n",
    "    })\n",
    "\n",
    "    grouped.columns = ['actual', 'n', 'predicted']\n",
    "    grouped['expected'] = grouped['n'] * grouped['predicted']\n",
    "\n",
    "    hl_stat = ((grouped['actual'] - grouped['expected']) ** 2 /\n",
    "               (grouped['expected'] * (1 - grouped['predicted']))).sum()\n",
    "    \n",
    "    df = g - 2\n",
    "    \n",
    "    p_value = 1 - chi2.cdf(hl_stat, df)\n",
    "    \n",
    "    return hl_stat, p_value\n",
    "\n",
    "y_pred = result.predict(x)\n",
    "\n",
    "hl_stat, p_value = hosmer_lemeshow_test(y, y_pred)\n",
    "\n",
    "print(f'Hosmer-Lemeshow Test Statistic: {hl_stat}')\n",
    "print(f'p-value: {p_value}')"
   ]
  },
  {
   "cell_type": "code",
   "execution_count": null,
   "id": "07c7b9bc",
   "metadata": {},
   "outputs": [],
   "source": [
    "df.columns"
   ]
  },
  {
   "cell_type": "code",
   "execution_count": null,
   "id": "5f2da90d",
   "metadata": {},
   "outputs": [],
   "source": [
    "x1= df[['int_rate']]"
   ]
  },
  {
   "cell_type": "code",
   "execution_count": null,
   "id": "f3bd55ab",
   "metadata": {},
   "outputs": [],
   "source": [
    "y1=df[['loan_status_encoded']]"
   ]
  },
  {
   "cell_type": "code",
   "execution_count": null,
   "id": "3392a141",
   "metadata": {},
   "outputs": [],
   "source": [
    "x1.shape"
   ]
  },
  {
   "cell_type": "code",
   "execution_count": null,
   "id": "1ec61041",
   "metadata": {},
   "outputs": [],
   "source": [
    "y1.shape"
   ]
  },
  {
   "cell_type": "code",
   "execution_count": null,
   "id": "8709c9d6",
   "metadata": {},
   "outputs": [],
   "source": [
    "x1_train, x1_test , y1_train, y1_test = train_test_split(x1, y1, train_size=0.7)\n",
    "x1_train, x1_test , y1_train, y1_test "
   ]
  },
  {
   "cell_type": "code",
   "execution_count": null,
   "id": "1203d84e",
   "metadata": {},
   "outputs": [],
   "source": [
    "model = sm.Logit(y1_train, x1_train)\n",
    "result1 = model.fit()"
   ]
  },
  {
   "cell_type": "code",
   "execution_count": null,
   "id": "06fe97cf",
   "metadata": {},
   "outputs": [],
   "source": [
    "print(result1.summary())"
   ]
  },
  {
   "cell_type": "code",
   "execution_count": null,
   "id": "8143436b",
   "metadata": {},
   "outputs": [],
   "source": [
    "print(result1.params)\n",
    "print(result1.pvalues)"
   ]
  },
  {
   "cell_type": "code",
   "execution_count": null,
   "id": "6e98463e",
   "metadata": {},
   "outputs": [],
   "source": [
    "np.round(5.609412e-233)"
   ]
  },
  {
   "cell_type": "code",
   "execution_count": null,
   "id": "be61f229",
   "metadata": {},
   "outputs": [],
   "source": [
    "x2= df[['sub_grade_encoded', 'purpose_encoded']]"
   ]
  },
  {
   "cell_type": "code",
   "execution_count": null,
   "id": "b0e3cc9d",
   "metadata": {},
   "outputs": [],
   "source": [
    "y2= df[['loan_status_encoded']]"
   ]
  },
  {
   "cell_type": "code",
   "execution_count": null,
   "id": "bfec9617",
   "metadata": {},
   "outputs": [],
   "source": [
    "x2_train, x2_test , y2_train, y2_test = train_test_split(x2, y2, train_size=0.7)\n",
    "x2_train, x2_test , y2_train, y2_test "
   ]
  },
  {
   "cell_type": "code",
   "execution_count": null,
   "id": "071cec36",
   "metadata": {},
   "outputs": [],
   "source": [
    "model = sm.Logit(y2_train, x2_train)\n",
    "result2 = model.fit()"
   ]
  },
  {
   "cell_type": "code",
   "execution_count": null,
   "id": "ae9f3f1f",
   "metadata": {},
   "outputs": [],
   "source": [
    "print(result2.summary())"
   ]
  },
  {
   "cell_type": "code",
   "execution_count": null,
   "id": "d421f9a5",
   "metadata": {},
   "outputs": [],
   "source": [
    "from sklearn.linear_model import LogisticRegression\n"
   ]
  },
  {
   "cell_type": "code",
   "execution_count": null,
   "id": "ea37ebff",
   "metadata": {},
   "outputs": [],
   "source": [
    "logreg2 = LogisticRegression(multi_class='multinomial', solver='lbfgs', max_iter=1000)\n",
    "logreg2.fit(x2_train, y2_train)"
   ]
  },
  {
   "cell_type": "code",
   "execution_count": null,
   "id": "b3eaf635",
   "metadata": {},
   "outputs": [],
   "source": [
    "y2_pred= logreg2.predict(x2_test)\n",
    "\n",
    "# Evaluate the model\n",
    "print(classification_report(y2_test, y2_pred))\n",
    "print(confusion_matrix(y2_test, y2_pred))"
   ]
  },
  {
   "cell_type": "code",
   "execution_count": null,
   "id": "334fd547",
   "metadata": {},
   "outputs": [],
   "source": [
    "y2_pred"
   ]
  },
  {
   "cell_type": "code",
   "execution_count": null,
   "id": "a2595f36",
   "metadata": {},
   "outputs": [],
   "source": [
    "coefficients = logreg2.coef_\n",
    "intercept = logreg2.intercept_\n",
    "\n",
    "# Print coefficients for each class\n",
    "print(\"Intercept:\", intercept)\n",
    "print(\"Coefficients:\", coefficients)"
   ]
  },
  {
   "cell_type": "code",
   "execution_count": null,
   "id": "b11e1c39",
   "metadata": {},
   "outputs": [],
   "source": [
    "x2.columns"
   ]
  },
  {
   "cell_type": "code",
   "execution_count": null,
   "id": "ac8f11f8",
   "metadata": {},
   "outputs": [],
   "source": [
    "x2['purpose_encoded'].unique"
   ]
  },
  {
   "cell_type": "code",
   "execution_count": null,
   "id": "1d3325e1",
   "metadata": {},
   "outputs": [],
   "source": [
    "x2['purpose']=x2['purpose_encoded']"
   ]
  },
  {
   "cell_type": "code",
   "execution_count": null,
   "id": "24b4481d",
   "metadata": {},
   "outputs": [],
   "source": [
    "df.columns"
   ]
  },
  {
   "cell_type": "code",
   "execution_count": null,
   "id": "70905c57",
   "metadata": {},
   "outputs": [],
   "source": [
    "df[['grade_encoded', 'sub_grade_encoded',\n",
    "       'home_ownership_encoded', 'loan_status_encoded', 'purpose_encoded']]"
   ]
  },
  {
   "cell_type": "code",
   "execution_count": null,
   "id": "588ed31d",
   "metadata": {},
   "outputs": [],
   "source": []
  },
  {
   "cell_type": "code",
   "execution_count": null,
   "id": "8c0b4242",
   "metadata": {},
   "outputs": [],
   "source": [
    "x2.drop(columns=['purpose_encoded'], inplace=True)"
   ]
  },
  {
   "cell_type": "code",
   "execution_count": null,
   "id": "ce4650ff",
   "metadata": {},
   "outputs": [],
   "source": [
    "x2.columns.get_loc(purpose)"
   ]
  },
  {
   "cell_type": "code",
   "execution_count": null,
   "id": "deaf40fd",
   "metadata": {},
   "outputs": [],
   "source": [
    "len(logreg2.classes_)"
   ]
  },
  {
   "cell_type": "code",
   "execution_count": null,
   "id": "57774fac",
   "metadata": {},
   "outputs": [],
   "source": [
    "print(\"Unique values in y:\", y2.unique())\n"
   ]
  },
  {
   "cell_type": "code",
   "execution_count": null,
   "id": "a40df54a",
   "metadata": {},
   "outputs": [],
   "source": [
    "y2= y2.squeeze()\n",
    "y2"
   ]
  },
  {
   "cell_type": "code",
   "execution_count": null,
   "id": "b21521dc",
   "metadata": {},
   "outputs": [],
   "source": [
    "print(\"Shape of X:\", x2.shape)\n",
    "print(\"Shape of y:\", y2.shape)"
   ]
  },
  {
   "cell_type": "code",
   "execution_count": null,
   "id": "279d6c0f",
   "metadata": {},
   "outputs": [],
   "source": [
    "X2_train, X2_test, y2_train, y2_test = train_test_split(x2, y2, test_size=0.2, random_state=42)\n"
   ]
  },
  {
   "cell_type": "code",
   "execution_count": null,
   "id": "4b42241c",
   "metadata": {},
   "outputs": [],
   "source": [
    "logreg222 = LogisticRegression(multi_class='multinomial', solver='lbfgs', max_iter=1000)\n",
    "logreg222.fit(X2_train, y2_train)"
   ]
  },
  {
   "cell_type": "code",
   "execution_count": null,
   "id": "ba53dadd",
   "metadata": {},
   "outputs": [],
   "source": [
    "y22_pred = logreg222.predict(X2_test)\n",
    "y22_pred"
   ]
  },
  {
   "cell_type": "code",
   "execution_count": null,
   "id": "c1757df6",
   "metadata": {},
   "outputs": [],
   "source": [
    "coefficients = logreg222.coef_\n",
    "intercept = logreg222.intercept_\n",
    "\n",
    "# Print coefficients for each class\n",
    "print(\"Intercept:\", intercept)\n",
    "print(\"Coefficients:\", coefficients)"
   ]
  },
  {
   "cell_type": "code",
   "execution_count": null,
   "id": "cde8a968",
   "metadata": {},
   "outputs": [],
   "source": [
    "purpose_columns = [col for col in x2.columns if col.startswith('purpose')]\n",
    "for purpose in purpose_columns:\n",
    "    coeffs = {f\"class_{i}\": coefficients[i][x2.columns.get_loc(purpose)] for i in range(len(logreg222.classes_))}\n",
    "    print(f\"Coefficients for {purpose}: {coeffs}\")"
   ]
  },
  {
   "cell_type": "code",
   "execution_count": null,
   "id": "b92431a0",
   "metadata": {},
   "outputs": [],
   "source": [
    "loan_status_series = df['loanstatus']\n"
   ]
  },
  {
   "cell_type": "code",
   "execution_count": null,
   "id": "8071cb80",
   "metadata": {},
   "outputs": [],
   "source": [
    "y2 = y2.squeeze()\n",
    "y2"
   ]
  },
  {
   "cell_type": "code",
   "execution_count": null,
   "id": "aea7d6b4",
   "metadata": {},
   "outputs": [],
   "source": [
    "print(\"Unique values in loan_status:\", loan_status_series.unique())"
   ]
  },
  {
   "cell_type": "code",
   "execution_count": null,
   "id": "ff7dd659",
   "metadata": {},
   "outputs": [],
   "source": [
    "X2_train, X2_test, y2_train, y2_test = train_test_split(x2, y2, test_size=0.2, random_state=42)\n",
    "\n",
    "# Fit the logistic regression model\n",
    "logreg23 = LogisticRegression(multi_class='multinomial', solver='lbfgs', max_iter=1000)\n",
    "logreg23.fit(X2_train, y2_train)\n"
   ]
  },
  {
   "cell_type": "code",
   "execution_count": null,
   "id": "51b01f12",
   "metadata": {},
   "outputs": [],
   "source": [
    "y2_pred = logreg23.predict(X2_test)\n",
    "\n",
    "# Evaluate the model\n",
    "print(classification_report(y2_test, y2_pred))\n",
    "#print(confusion_matrix(y2_test, y2_pred))"
   ]
  },
  {
   "cell_type": "code",
   "execution_count": null,
   "id": "ad55238c",
   "metadata": {},
   "outputs": [],
   "source": [
    "print(confusion_matrix(y2_test, y2_pred))"
   ]
  },
  {
   "cell_type": "code",
   "execution_count": null,
   "id": "ef7150b1",
   "metadata": {},
   "outputs": [],
   "source": [
    "coefficients = logreg23.coef_\n",
    "intercept = logreg23.intercept_\n",
    "\n",
    "# Print coefficients for each class\n",
    "print(\"Intercept:\", intercept)\n",
    "print(\"Coefficients:\", coefficients)\n"
   ]
  },
  {
   "cell_type": "code",
   "execution_count": null,
   "id": "c30ae571",
   "metadata": {},
   "outputs": [],
   "source": [
    "purpose_columns = [col for col in x2.columns if col.startswith('purpose')]\n",
    "for purpose in purpose_columns:\n",
    "    coeffs = {f\"class_{i}\": coefficients[i][x2.columns.get_loc(purpose)] for i in range(len(logreg222.classes_))}\n",
    "    print(f\"Coefficients for {purpose}: {coeffs}\")"
   ]
  },
  {
   "cell_type": "code",
   "execution_count": null,
   "id": "03d640ac",
   "metadata": {},
   "outputs": [],
   "source": [
    "print(result2.params)\n",
    "print(result2.pvalues)"
   ]
  },
  {
   "cell_type": "code",
   "execution_count": null,
   "id": "93e19534",
   "metadata": {},
   "outputs": [],
   "source": []
  },
  {
   "cell_type": "code",
   "execution_count": null,
   "id": "72500e5c",
   "metadata": {},
   "outputs": [],
   "source": []
  },
  {
   "cell_type": "code",
   "execution_count": null,
   "id": "060c7e81",
   "metadata": {},
   "outputs": [],
   "source": [
    "p_values2= result2.pvalues\n",
    "\n",
    "# Identify significance levels\n",
    "significant_1_percent2 = p_values2[p_values2 < 0.01]\n",
    "significant_5_percent2 = p_values2[(p_values2 < 0.05) & (p_values2 >= 0.01)]\n",
    "significant_10_percent2 = p_values2[(p_values2 < 0.10) & (p_values2 >= 0.05)]\n",
    "\n",
    "print(\"Significant at 1% level:\")\n",
    "print(significant_1_percent2)\n",
    "\n",
    "print(\"Significant at 5% level:\")\n",
    "print(significant_5_percent2)\n",
    "\n",
    "print(\"Significant at 10% level:\")\n",
    "print(significant_10_percent2)"
   ]
  },
  {
   "cell_type": "code",
   "execution_count": null,
   "id": "f44daa66",
   "metadata": {},
   "outputs": [],
   "source": [
    "df.columns"
   ]
  },
  {
   "cell_type": "code",
   "execution_count": null,
   "id": "3fc3dbb5",
   "metadata": {},
   "outputs": [],
   "source": [
    "x3=df[['sub_grade_encoded', 'home_ownership_encoded','annual_inc']]"
   ]
  },
  {
   "cell_type": "code",
   "execution_count": null,
   "id": "8c70d000",
   "metadata": {},
   "outputs": [],
   "source": [
    "y3= df[['loan_status_encoded']]"
   ]
  },
  {
   "cell_type": "code",
   "execution_count": null,
   "id": "7eeaa2c6",
   "metadata": {},
   "outputs": [],
   "source": [
    "x3_train, x3_test , y3_train, y3_test = train_test_split(x3, y3, train_size=0.7)\n",
    "x3_train, x3_test , y3_train, y3_test"
   ]
  },
  {
   "cell_type": "code",
   "execution_count": null,
   "id": "06b052d8",
   "metadata": {},
   "outputs": [],
   "source": [
    "model = sm.Logit(y3, x3)\n",
    "result3 = model.fit()"
   ]
  },
  {
   "cell_type": "code",
   "execution_count": null,
   "id": "c440c02b",
   "metadata": {},
   "outputs": [],
   "source": [
    "print(result3.summary())"
   ]
  },
  {
   "cell_type": "code",
   "execution_count": null,
   "id": "e3709dc9",
   "metadata": {},
   "outputs": [],
   "source": [
    "print(result3.params)\n",
    "print(result3.pvalues)"
   ]
  },
  {
   "cell_type": "code",
   "execution_count": null,
   "id": "5cc91610",
   "metadata": {},
   "outputs": [],
   "source": [
    "house_coefs = result3.params.filter(like='home_ownership_encoded_')\n",
    "house_coefs"
   ]
  },
  {
   "cell_type": "code",
   "execution_count": null,
   "id": "f5679ee1",
   "metadata": {},
   "outputs": [],
   "source": [
    "#log_stat = sm.Logit(y3_train, x3_train).fit()\n"
   ]
  },
  {
   "cell_type": "code",
   "execution_count": null,
   "id": "52511d0a",
   "metadata": {},
   "outputs": [],
   "source": [
    "#print(log_stat.summary())\n"
   ]
  },
  {
   "cell_type": "code",
   "execution_count": null,
   "id": "960c6ce2",
   "metadata": {},
   "outputs": [],
   "source": [
    "print(\"Purpose coefficients:\")\n",
    "print(house_coefs)\n",
    "print(\"P-values:\")\n",
    "print(result3.pvalues.filter(like='home_ownership_encoded_'))\n"
   ]
  },
  {
   "cell_type": "code",
   "execution_count": null,
   "id": "4ed8dad3",
   "metadata": {},
   "outputs": [],
   "source": [
    "p_values3 = result3.pvalues\n",
    "\n",
    "significant_1_percent3 = p_values3[p_values3 < 0.01]\n",
    "significant_5_percent3= p_values3[(p_values3 < 0.05) & (p_values3 >= 0.01)]\n",
    "significant_10_percent3 = p_values3[(p_values3< 0.10) & (p_values3 >= 0.05)]\n",
    "\n",
    "print(\"Significant at 1% level:\")\n",
    "print(significant_1_percent3)\n",
    "\n",
    "print(\"Significant at 5% level:\")\n",
    "print(significant_5_percent3)\n",
    "\n",
    "print(\"Significant at 10% level:\")\n",
    "print(significant_10_percent3)"
   ]
  },
  {
   "cell_type": "code",
   "execution_count": null,
   "id": "5c30a687",
   "metadata": {},
   "outputs": [],
   "source": [
    "df.columns"
   ]
  },
  {
   "cell_type": "code",
   "execution_count": null,
   "id": "e135c6e5",
   "metadata": {},
   "outputs": [],
   "source": [
    "x4= df[['sub_grade_encoded','inq_last_6mths', 'pub_rec',\n",
    "       'revol_util','delinq_2yrs']]"
   ]
  },
  {
   "cell_type": "code",
   "execution_count": null,
   "id": "bdb8c685",
   "metadata": {},
   "outputs": [],
   "source": [
    "x4.info()"
   ]
  },
  {
   "cell_type": "code",
   "execution_count": null,
   "id": "57e28a98",
   "metadata": {},
   "outputs": [],
   "source": [
    "x4.isnull()"
   ]
  },
  {
   "cell_type": "code",
   "execution_count": null,
   "id": "9d73b9f2",
   "metadata": {},
   "outputs": [],
   "source": [
    "x4.isnull().sum()"
   ]
  },
  {
   "cell_type": "code",
   "execution_count": null,
   "id": "7677bde3",
   "metadata": {},
   "outputs": [],
   "source": [
    "nan_indices = x4.index[x4.isnull().any(axis=1)].tolist()\n",
    "nan_indices"
   ]
  },
  {
   "cell_type": "code",
   "execution_count": null,
   "id": "de785a0c",
   "metadata": {},
   "outputs": [],
   "source": [
    "x4_clean = x4.drop(nan_indices)\n",
    "x4_clean"
   ]
  },
  {
   "cell_type": "code",
   "execution_count": null,
   "id": "74c101d6",
   "metadata": {},
   "outputs": [],
   "source": [
    "y4=df[['loan_status_encoded']]"
   ]
  },
  {
   "cell_type": "code",
   "execution_count": null,
   "id": "a0bc75b2",
   "metadata": {},
   "outputs": [],
   "source": [
    "y4_clean = y4.drop(nan_indices)\n",
    "y4_clean"
   ]
  },
  {
   "cell_type": "code",
   "execution_count": null,
   "id": "4620c7fe",
   "metadata": {},
   "outputs": [],
   "source": [
    " y4.shape"
   ]
  },
  {
   "cell_type": "code",
   "execution_count": null,
   "id": "ba0caabb",
   "metadata": {},
   "outputs": [],
   "source": [
    "y4.isnull().sum()"
   ]
  },
  {
   "cell_type": "code",
   "execution_count": null,
   "id": "ae4e0f94",
   "metadata": {},
   "outputs": [],
   "source": [
    "x4.shape"
   ]
  },
  {
   "cell_type": "code",
   "execution_count": null,
   "id": "2bbc16a0",
   "metadata": {},
   "outputs": [],
   "source": [
    "x4_clean_train, x4_clean_test , y4_clean_train, y4_clean_test = train_test_split(x4_clean, y4_clean, train_size=0.7)\n",
    "x4_clean_train, x4_clean_test , y4_clean_train, y4_clean_test"
   ]
  },
  {
   "cell_type": "code",
   "execution_count": null,
   "id": "6ce0734a",
   "metadata": {},
   "outputs": [],
   "source": [
    "model = sm.Logit(y4_clean, x4_clean)\n",
    "result4 = model.fit()"
   ]
  },
  {
   "cell_type": "code",
   "execution_count": null,
   "id": "54c6e676",
   "metadata": {},
   "outputs": [],
   "source": [
    "print(result4.summary())"
   ]
  },
  {
   "cell_type": "code",
   "execution_count": null,
   "id": "e1a5aa10",
   "metadata": {},
   "outputs": [],
   "source": [
    "p_values4= result4.pvalues\n"
   ]
  },
  {
   "cell_type": "code",
   "execution_count": null,
   "id": "5f052f11",
   "metadata": {},
   "outputs": [],
   "source": [
    "significant_1_percent4 = p_values4[p_values4 < 0.01]\n",
    "significant_5_percent4 = p_values4[(p_values4 < 0.05) & (p_values4 >= 0.01)]\n",
    "significant_10_percent4 = p_values4[(p_values4 < 0.10) & (p_values4 >= 0.05)]\n"
   ]
  },
  {
   "cell_type": "code",
   "execution_count": null,
   "id": "b37e58ea",
   "metadata": {},
   "outputs": [],
   "source": [
    "print(\"Significant at 1% level:\")\n",
    "print(significant_1_percent4)\n",
    "\n",
    "print(\"Significant at 5% level:\")\n",
    "print(significant_5_percent4)\n",
    "\n",
    "print(\"Significant at 10% level:\")\n",
    "print(significant_10_percent4)"
   ]
  },
  {
   "cell_type": "code",
   "execution_count": null,
   "id": "0ad0baac",
   "metadata": {},
   "outputs": [],
   "source": [
    "df.columns"
   ]
  },
  {
   "cell_type": "code",
   "execution_count": null,
   "id": "b61167e8",
   "metadata": {},
   "outputs": [],
   "source": [
    "x5= df[['sub_grade_encoded','loanamounttoannualincome', 'annualinstallmenttoannualincome']]"
   ]
  },
  {
   "cell_type": "code",
   "execution_count": null,
   "id": "19e17424",
   "metadata": {},
   "outputs": [],
   "source": [
    "y5=df[['loan_status_encoded']]"
   ]
  },
  {
   "cell_type": "code",
   "execution_count": null,
   "id": "3be07539",
   "metadata": {},
   "outputs": [],
   "source": [
    "nan_indices = x5.index[x5.isnull().any(axis=1)].tolist()\n",
    "nan_indices"
   ]
  },
  {
   "cell_type": "code",
   "execution_count": null,
   "id": "553acc20",
   "metadata": {},
   "outputs": [],
   "source": [
    "x5_train, x5_test , y5_train, y5_test = train_test_split(x5, y5, train_size=0.7)\n",
    "x5_train, x5_test , y5_train, y5_test"
   ]
  },
  {
   "cell_type": "code",
   "execution_count": null,
   "id": "8d5b76fc",
   "metadata": {},
   "outputs": [],
   "source": [
    "model = sm.Logit(y5, x5)\n",
    "result5 = model.fit()"
   ]
  },
  {
   "cell_type": "code",
   "execution_count": null,
   "id": "f0115693",
   "metadata": {},
   "outputs": [],
   "source": [
    "print(result5.summary())"
   ]
  },
  {
   "cell_type": "code",
   "execution_count": null,
   "id": "9912cbe7",
   "metadata": {},
   "outputs": [],
   "source": [
    "p_values5 = result5.pvalues\n",
    "\n",
    "significant_1_percent5 = p_values5[p_values5 < 0.01]\n",
    "significant_5_percent5 = p_values5[(p_values5 < 0.05) & (p_values5 >= 0.01)]\n",
    "significant_10_percent5 = p_values5[(p_values5 < 0.10) & (p_values5 >= 0.05)]\n",
    "\n",
    "print(\"Significant at 1% level:\")\n",
    "print(significant_1_percent5)\n",
    "\n",
    "print(\"Significant at 5% level:\")\n",
    "print(significant_5_percent5)\n",
    "\n",
    "print(\"Significant at 10% level:\")\n",
    "print(significant_10_percent5)"
   ]
  },
  {
   "cell_type": "code",
   "execution_count": null,
   "id": "0a120d4f",
   "metadata": {},
   "outputs": [],
   "source": [
    "df.columns"
   ]
  },
  {
   "cell_type": "code",
   "execution_count": null,
   "id": "1ace76a0",
   "metadata": {},
   "outputs": [],
   "source": [
    "x6= df[['sub_grade_encoded','home_ownership_encoded','loanamounttoannualincome', 'annualinstallmenttoannualincome',\\\n",
    "      'inq_last_6mths', 'pub_rec','delinq_2yrs','int_rate','annual_inc','revol_util','purpose_encoded']]"
   ]
  },
  {
   "cell_type": "code",
   "execution_count": null,
   "id": "4be5ccfb",
   "metadata": {},
   "outputs": [],
   "source": [
    "y6=df[['loan_status_encoded']]"
   ]
  },
  {
   "cell_type": "code",
   "execution_count": null,
   "id": "69da4b20",
   "metadata": {},
   "outputs": [],
   "source": [
    "x6_train, x6_test , y6_train, y6_test = train_test_split(x6, y6, train_size=0.7)\n",
    "x6_train, x6_test , y6_train, y6_test"
   ]
  },
  {
   "cell_type": "code",
   "execution_count": null,
   "id": "94faee82",
   "metadata": {},
   "outputs": [],
   "source": [
    "x6.isnull().sum()"
   ]
  },
  {
   "cell_type": "code",
   "execution_count": null,
   "id": "8de6155c",
   "metadata": {},
   "outputs": [],
   "source": [
    "nan_indices6= x6.index[x6.isnull().any(axis=1)].tolist()\n",
    "\n",
    "x6_clean = x6.drop(nan_indices6)\n",
    "y6_clean = y6.drop(nan_indices6)"
   ]
  },
  {
   "cell_type": "code",
   "execution_count": null,
   "id": "7055419e",
   "metadata": {},
   "outputs": [],
   "source": [
    "nan_indices6"
   ]
  },
  {
   "cell_type": "code",
   "execution_count": null,
   "id": "a02d1905",
   "metadata": {},
   "outputs": [],
   "source": [
    "x6_cl_train, x6_cl_test , y6_cl_train, y6_test = train_test_split(x6_clean, y6_clean, train_size=0.7)\n",
    "x6_cl_train, x6_cl_test , y6_cl_train, y6_test"
   ]
  },
  {
   "cell_type": "code",
   "execution_count": null,
   "id": "e467610c",
   "metadata": {},
   "outputs": [],
   "source": [
    "x6_clean.shape"
   ]
  },
  {
   "cell_type": "code",
   "execution_count": null,
   "id": "8e28e877",
   "metadata": {},
   "outputs": [],
   "source": [
    "y6_clean.shape"
   ]
  },
  {
   "cell_type": "code",
   "execution_count": null,
   "id": "8b35b494",
   "metadata": {},
   "outputs": [],
   "source": [
    "model = sm.Logit(y6_clean, x6_clean)\n",
    "result6 = model.fit()"
   ]
  },
  {
   "cell_type": "code",
   "execution_count": null,
   "id": "c3a2bb98",
   "metadata": {},
   "outputs": [],
   "source": [
    "print(result6.summary())"
   ]
  },
  {
   "cell_type": "code",
   "execution_count": null,
   "id": "4b2ba752",
   "metadata": {},
   "outputs": [],
   "source": [
    "print(result6.params)\n"
   ]
  },
  {
   "cell_type": "code",
   "execution_count": null,
   "id": "c6d6d77e",
   "metadata": {},
   "outputs": [],
   "source": [
    "coeff_car = result6.params.get('purpose_encoded', '4')\n",
    "#coeff_wedding = result6.params.get('purpose_wedding', 'Not found')\n",
    "coeff_car"
   ]
  },
  {
   "cell_type": "code",
   "execution_count": null,
   "id": "75c7fcf3",
   "metadata": {},
   "outputs": [],
   "source": [
    "p_values6 = result6.pvalues\n",
    "\n",
    "# Identify significance levels\n",
    "significant_1_percent6 = p_values6[p_values6 < 0.01]\n",
    "significant_5_percent6 = p_values6[(p_values6 < 0.05) & (p_values6 >= 0.01)]\n",
    "significant_10_percent6 = p_values6[(p_values6 < 0.10) & (p_values6 >= 0.05)]\n",
    "\n",
    "print(\"Significant at 1% level:\")\n",
    "print(significant_1_percent6)\n",
    "\n",
    "print(\"Significant at 5% level:\")\n",
    "print(significant_5_percent6)\n",
    "\n",
    "print(\"Significant at 10% level:\")\n",
    "print(significant_10_percent6)"
   ]
  },
  {
   "cell_type": "code",
   "execution_count": null,
   "id": "6bc58bbf",
   "metadata": {},
   "outputs": [],
   "source": [
    "purpose_columns = [col for col in x6.columns if 'purpose_encoded' in col]\n",
    "#housing_columns = [col for col in x6.columns if 'housing_situation' in col]\n",
    "\n",
    "purpose_coefficients = result6.params[purpose_columns]\n",
    "#housing_coefficients = result.params[housing_columns]\n",
    "purpose_coefficients"
   ]
  },
  {
   "cell_type": "code",
   "execution_count": null,
   "id": "020f1266",
   "metadata": {},
   "outputs": [],
   "source": [
    "from statsmodels.stats import diagnostic\n"
   ]
  },
  {
   "cell_type": "code",
   "execution_count": null,
   "id": "9d03afef",
   "metadata": {},
   "outputs": [],
   "source": [
    "def nagelkerke_r2(model):\n",
    "    return 1 - (model.llnull / model.llf) ** (2 / len(model.fittedvalues))\n",
    "nagelkerke_r2_value = nagelkerke_r2(result)\n"
   ]
  },
  {
   "cell_type": "code",
   "execution_count": null,
   "id": "9cd182d3",
   "metadata": {},
   "outputs": [],
   "source": [
    "def hosmer_lemeshow_test(model, bins=10):\n",
    "    g, p, df = diagnostic.hosmer_lemeshow(model.fittedvalues, model.model.endog, g=bins)\n",
    "    return g, p"
   ]
  },
  {
   "cell_type": "code",
   "execution_count": null,
   "id": "65ad9582",
   "metadata": {},
   "outputs": [],
   "source": [
    "#hl_statistic, p_value = hosmer_lemeshow_test(result6)\n"
   ]
  },
  {
   "cell_type": "code",
   "execution_count": null,
   "id": "5377c846",
   "metadata": {},
   "outputs": [],
   "source": [
    "def nagelkerke_r2(model):\n",
    "    ll_full = model.llf\n",
    "    ll_null = model.llnull\n",
    "    n = len(model.fittedvalues)\n",
    "    return 1 - (ll_null / ll_full) ** (2 / n)\n",
    "\n",
    "nagelkerke_r2_value = nagelkerke_r2(result6)\n"
   ]
  },
  {
   "cell_type": "code",
   "execution_count": null,
   "id": "87e85e38",
   "metadata": {},
   "outputs": [],
   "source": [
    "nagelkerke_r2_value"
   ]
  },
  {
   "cell_type": "code",
   "execution_count": null,
   "id": "60ca0414",
   "metadata": {},
   "outputs": [],
   "source": [
    "nagelkerke_r2_value = nagelkerke_r2(result5)\n",
    "nagelkerke_r2_value"
   ]
  },
  {
   "cell_type": "code",
   "execution_count": null,
   "id": "006e21c1",
   "metadata": {},
   "outputs": [],
   "source": [
    "nagelkerke_r2_value = nagelkerke_r2(result4)\n",
    "nagelkerke_r2_value"
   ]
  },
  {
   "cell_type": "code",
   "execution_count": null,
   "id": "2203a0c4",
   "metadata": {},
   "outputs": [],
   "source": [
    "nagelkerke_r2_value = nagelkerke_r2(result3)\n",
    "nagelkerke_r2_value"
   ]
  },
  {
   "cell_type": "code",
   "execution_count": null,
   "id": "43aaf044",
   "metadata": {},
   "outputs": [],
   "source": [
    "nagelkerke_r2_value = nagelkerke_r2(result2)\n",
    "nagelkerke_r2_value"
   ]
  },
  {
   "cell_type": "code",
   "execution_count": null,
   "id": "63cb07ea",
   "metadata": {},
   "outputs": [],
   "source": [
    "nagelkerke_r2_value = nagelkerke_r2(result1)\n",
    "nagelkerke_r2_value"
   ]
  },
  {
   "cell_type": "code",
   "execution_count": null,
   "id": "cd2a3df7",
   "metadata": {},
   "outputs": [],
   "source": [
    "np.round(4.481955349056044e-05)"
   ]
  },
  {
   "cell_type": "code",
   "execution_count": null,
   "id": "5dcd1d28",
   "metadata": {},
   "outputs": [],
   "source": [
    "nagelkerke_r2_value = nagelkerke_r2(result)\n",
    "nagelkerke_r2_value"
   ]
  },
  {
   "cell_type": "code",
   "execution_count": null,
   "id": "4660beff",
   "metadata": {},
   "outputs": [],
   "source": [
    "np.round(9.546202286558891e-05)"
   ]
  },
  {
   "cell_type": "code",
   "execution_count": null,
   "id": "a3a943c7",
   "metadata": {},
   "outputs": [],
   "source": [
    "x6_clean= sm.add_constant(x6_clean) \n",
    "x6.columns"
   ]
  },
  {
   "cell_type": "code",
   "execution_count": null,
   "id": "89f23c1b",
   "metadata": {},
   "outputs": [],
   "source": [
    "#def hosmer_lemeshow_test(model, x6_clean, y6_clean, num_groups=10):\n",
    " #   y_pred_prob = model.predict(x)\n",
    " #   df = pd.DataFrame({'y_true': y, 'y_pred_prob': y_pred_prob})\n",
    " #   df['bin'] = pd.qcut(df['y_pred_prob'], q=num_groups, labels=False)\n",
    " #   observed = df.groupby('bin')['y_true'].mean()\n",
    " #   expected = df.groupby('bin')['y_pred_prob'].mean()\n",
    " #   hl_statistic = np.sum((observed - expected)**2 / expected * len(y))\n",
    " #   p_value = 1 - chi2.cdf(hl_statistic, num_groups - 2)\n",
    " #   return hl_statistic, p_value\n",
    "\n",
    "#hl_statistic, p_value = hosmer_lemeshow_test(result6, y6_clean, x6_clean)"
   ]
  },
  {
   "cell_type": "code",
   "execution_count": null,
   "id": "cbd3a74e",
   "metadata": {},
   "outputs": [],
   "source": [
    "def hosmer_lemeshow_test(model, x, y, num_groups=10):\n",
    "    X_without_constant = x6_clean.iloc[:, 1:] \n",
    "    y_pred_prob = model.predict(x6_clean)\n",
    "    df = pd.DataFrame({'y_true': y, 'y_pred_prob': y_pred})\n",
    "    df['bin'] = pd.qcut(df['y_pred_prob'], q=num_groups, labels=False)\n",
    "    observed = df.groupby('bin')['y_true'].mean()\n",
    "    expected = df.groupby('bin')['y_pred_prob'].mean()\n",
    "    hl_statistic = np.sum((observed - expected)**2 / expected * len(y))\n",
    "    p_value = 1 - chi2.cdf(hl_statistic, num_groups - 2)\n",
    "    return hl_statistic, p_value"
   ]
  },
  {
   "cell_type": "code",
   "execution_count": null,
   "id": "e949db93",
   "metadata": {},
   "outputs": [],
   "source": [
    "#hl_statistic, p_value = hosmer_lemeshow_test(result6, x6_clean, y6_clean)\n"
   ]
  },
  {
   "cell_type": "code",
   "execution_count": null,
   "id": "f0587678",
   "metadata": {},
   "outputs": [],
   "source": [
    "#x6.shape()"
   ]
  },
  {
   "cell_type": "code",
   "execution_count": null,
   "id": "cc49ee6c",
   "metadata": {},
   "outputs": [],
   "source": []
  },
  {
   "cell_type": "code",
   "execution_count": null,
   "id": "cfd24563",
   "metadata": {},
   "outputs": [],
   "source": [
    "log_reg = LogisticRegression(random_state = 0, solver='lbfgs', multi_class='auto')\n",
    "log_reg.fit(x_train, y_train)\n",
    "y_pred = log_reg.predict(x_test)"
   ]
  },
  {
   "cell_type": "code",
   "execution_count": null,
   "id": "92fa81f5",
   "metadata": {},
   "outputs": [],
   "source": []
  },
  {
   "cell_type": "code",
   "execution_count": null,
   "id": "3a422be8",
   "metadata": {},
   "outputs": [],
   "source": []
  },
  {
   "cell_type": "code",
   "execution_count": null,
   "id": "89e761b8",
   "metadata": {},
   "outputs": [],
   "source": [
    "print(\"Accuracy:\",accuracy_score(y_test, y_pred))"
   ]
  },
  {
   "cell_type": "code",
   "execution_count": null,
   "id": "a476fa36",
   "metadata": {},
   "outputs": [],
   "source": [
    "log_reg = LogisticRegression(random_state = 0, solver='lbfgs', multi_class='auto')\n",
    "log_reg.fit(x1_train, y1_train)\n",
    "y1_pred = log_reg.predict(x1_test)"
   ]
  },
  {
   "cell_type": "code",
   "execution_count": null,
   "id": "8129f084",
   "metadata": {},
   "outputs": [],
   "source": [
    "print(\"Accuracy:\",accuracy_score(y1_test, y1_pred))"
   ]
  },
  {
   "cell_type": "code",
   "execution_count": null,
   "id": "bc482d50",
   "metadata": {},
   "outputs": [],
   "source": [
    "log_reg = LogisticRegression(random_state = 0, solver='lbfgs', multi_class='auto')\n",
    "log_reg.fit(x2_train, y2_train)\n",
    "y2_pred = log_reg.predict(x2_test)"
   ]
  },
  {
   "cell_type": "code",
   "execution_count": null,
   "id": "df94c2be",
   "metadata": {},
   "outputs": [],
   "source": [
    "print(\"Accuracy:\",accuracy_score(y2_test, y2_pred))"
   ]
  },
  {
   "cell_type": "code",
   "execution_count": null,
   "id": "bfb2d363",
   "metadata": {},
   "outputs": [],
   "source": [
    "log_reg = LogisticRegression(random_state = 0, solver='lbfgs', multi_class='auto')\n",
    "log_reg.fit(x3_train, y3_train)\n",
    "y3_pred = log_reg.predict(x3_test)"
   ]
  },
  {
   "cell_type": "code",
   "execution_count": null,
   "id": "46c75654",
   "metadata": {},
   "outputs": [],
   "source": [
    "print(\"Accuracy:\",accuracy_score(y3_test, y3_pred))"
   ]
  },
  {
   "cell_type": "code",
   "execution_count": null,
   "id": "0ebc6e7d",
   "metadata": {},
   "outputs": [],
   "source": [
    "log_reg = LogisticRegression(random_state = 0, solver='lbfgs', multi_class='auto')\n",
    "log_reg.fit(x4_clean_train, y4_clean_train)\n",
    "y4_pred = log_reg.predict(x4_clean_test)"
   ]
  },
  {
   "cell_type": "code",
   "execution_count": null,
   "id": "f3f25e51",
   "metadata": {},
   "outputs": [],
   "source": [
    "print(\"Accuracy:\",accuracy_score(y4_clean_test, y4_pred))"
   ]
  },
  {
   "cell_type": "code",
   "execution_count": null,
   "id": "d2777370",
   "metadata": {},
   "outputs": [],
   "source": [
    "log_reg = LogisticRegression(random_state = 0, solver='lbfgs', multi_class='auto')\n",
    "log_reg.fit(x5_train, y5_train)\n",
    "y5_pred = log_reg.predict(x5_test)"
   ]
  },
  {
   "cell_type": "code",
   "execution_count": null,
   "id": "a4d9959c",
   "metadata": {},
   "outputs": [],
   "source": [
    "print(\"Accuracy:\",accuracy_score(y5_test, y5_pred))"
   ]
  },
  {
   "cell_type": "code",
   "execution_count": null,
   "id": "6115f0ab",
   "metadata": {},
   "outputs": [],
   "source": [
    "log_reg = LogisticRegression(random_state = 0, solver='lbfgs', multi_class='auto')\n",
    "log_reg.fit(x6_cl_train, y6_cl_train)\n",
    "y6_pred = log_reg.predict(x6_cl_test)"
   ]
  },
  {
   "cell_type": "code",
   "execution_count": null,
   "id": "80d8153d",
   "metadata": {},
   "outputs": [],
   "source": [
    "print(\"Accuracy:\",accuracy_score(y6_test, y6_pred))"
   ]
  },
  {
   "cell_type": "code",
   "execution_count": null,
   "id": "acf6996f",
   "metadata": {},
   "outputs": [],
   "source": [
    "df.info()"
   ]
  },
  {
   "cell_type": "code",
   "execution_count": null,
   "id": "4f182fbd",
   "metadata": {},
   "outputs": [],
   "source": [
    "df.shape"
   ]
  },
  {
   "cell_type": "code",
   "execution_count": null,
   "id": "337b2b5d",
   "metadata": {},
   "outputs": [],
   "source": [
    "df.columns"
   ]
  },
  {
   "cell_type": "code",
   "execution_count": null,
   "id": "e61507a6",
   "metadata": {},
   "outputs": [],
   "source": [
    "df.isnull().sum()"
   ]
  },
  {
   "cell_type": "code",
   "execution_count": null,
   "id": "60646c19",
   "metadata": {},
   "outputs": [],
   "source": [
    "nan_indicesdf=df.index[df.isnull().any(axis=1)].tolist()\n",
    "\n",
    "#x6_clean = x6.drop(nan_indices6)\n",
    "#y6_clean = y6.drop(nan_indices6)"
   ]
  },
  {
   "cell_type": "code",
   "execution_count": null,
   "id": "7dfff9a9",
   "metadata": {},
   "outputs": [],
   "source": [
    "nan_indicesdf"
   ]
  },
  {
   "cell_type": "code",
   "execution_count": null,
   "id": "85bd61a8",
   "metadata": {},
   "outputs": [],
   "source": [
    "df.isnull().sum()"
   ]
  },
  {
   "cell_type": "code",
   "execution_count": null,
   "id": "82aad01c",
   "metadata": {},
   "outputs": [],
   "source": [
    "#dro_list = [col for col in df.columns if df['col'].isnull().sum == 5399]"
   ]
  },
  {
   "cell_type": "code",
   "execution_count": null,
   "id": "921848a3",
   "metadata": {},
   "outputs": [],
   "source": [
    "columns_to_drop = []\n",
    "\n",
    "for column in df.columns:\n",
    "    if df[column].isna().sum() == 5399:\n",
    "        columns_to_drop.append(column)"
   ]
  },
  {
   "cell_type": "code",
   "execution_count": null,
   "id": "0001fd8a",
   "metadata": {},
   "outputs": [],
   "source": [
    "df.drop(columns=columns_to_drop, inplace=True)\n"
   ]
  },
  {
   "cell_type": "code",
   "execution_count": null,
   "id": "7f54d47a",
   "metadata": {},
   "outputs": [],
   "source": [
    "df.info()"
   ]
  },
  {
   "cell_type": "code",
   "execution_count": null,
   "id": "cde62740",
   "metadata": {},
   "outputs": [],
   "source": [
    "nan_indicesdf=df.index[df.isnull().any(axis=1)].tolist()\n",
    "nan_indicesdf"
   ]
  },
  {
   "cell_type": "code",
   "execution_count": null,
   "id": "afa70473",
   "metadata": {
    "scrolled": true
   },
   "outputs": [],
   "source": [
    "df_clean = df.drop(nan_indicesdf)\n",
    "df_clean"
   ]
  },
  {
   "cell_type": "code",
   "execution_count": null,
   "id": "f5b9a7db",
   "metadata": {},
   "outputs": [],
   "source": [
    "df_clean.info()"
   ]
  },
  {
   "cell_type": "code",
   "execution_count": null,
   "id": "5b115e07",
   "metadata": {},
   "outputs": [],
   "source": [
    "discrete_vars = df.select_dtypes(include=['object', 'category']).columns\n",
    "continuous_vars = df.select_dtypes(include=['int64', 'float64']).columns"
   ]
  },
  {
   "cell_type": "code",
   "execution_count": null,
   "id": "fcc0257b",
   "metadata": {},
   "outputs": [],
   "source": [
    "discrete_vars"
   ]
  },
  {
   "cell_type": "code",
   "execution_count": null,
   "id": "3ecdf0bc",
   "metadata": {},
   "outputs": [],
   "source": [
    "continuous_vars"
   ]
  },
  {
   "cell_type": "code",
   "execution_count": null,
   "id": "9e9f427e",
   "metadata": {},
   "outputs": [],
   "source": [
    "continuous_summary = df[continuous_vars].describe().T\n",
    "continuous_summary"
   ]
  },
  {
   "cell_type": "code",
   "execution_count": null,
   "id": "81e79c49",
   "metadata": {},
   "outputs": [],
   "source": [
    "continuous_summary['variance'] = df[continuous_vars].var()\n",
    "continuous_summary['skewness'] = df[continuous_vars].skew()\n",
    "continuous_summary['kurtosis'] = df[continuous_vars].kurt()"
   ]
  },
  {
   "cell_type": "code",
   "execution_count": null,
   "id": "e81beafe",
   "metadata": {},
   "outputs": [],
   "source": [
    "discrete_summary = pd.DataFrame({\n",
    "    'unique': df[discrete_vars].nunique(),\n",
    "    'top': df[discrete_vars].mode().iloc[0],\n",
    "    'freq': df[discrete_vars].apply(lambda x: x.value_counts().iloc[0])\n",
    "})\n"
   ]
  },
  {
   "cell_type": "code",
   "execution_count": null,
   "id": "9e0f48aa",
   "metadata": {},
   "outputs": [],
   "source": [
    "summary = pd.concat([continuous_summary, discrete_summary], axis=0)\n"
   ]
  },
  {
   "cell_type": "code",
   "execution_count": null,
   "id": "c0d5cc3a",
   "metadata": {},
   "outputs": [],
   "source": [
    "print(\"Exploratory Analysis Table:\")\n",
    "print(summary)"
   ]
  },
  {
   "cell_type": "code",
   "execution_count": null,
   "id": "4de9abbf",
   "metadata": {},
   "outputs": [],
   "source": [
    "df_clean.info()"
   ]
  },
  {
   "cell_type": "code",
   "execution_count": null,
   "id": "54cd982c",
   "metadata": {},
   "outputs": [],
   "source": [
    "df.isnull().sum()"
   ]
  },
  {
   "cell_type": "code",
   "execution_count": null,
   "id": "9a2fd223",
   "metadata": {},
   "outputs": [],
   "source": [
    "df_clean.info()"
   ]
  },
  {
   "cell_type": "code",
   "execution_count": null,
   "id": "58c5691e",
   "metadata": {},
   "outputs": [],
   "source": [
    "df_clean.select_dtypes(include='datetime')"
   ]
  },
  {
   "cell_type": "code",
   "execution_count": null,
   "id": "9a67e4b3",
   "metadata": {},
   "outputs": [],
   "source": [
    "df_clean['end_date'] = df_clean[['last_pymnt_d', 'last_credit_pull_d']].min(axis=1)\n"
   ]
  },
  {
   "cell_type": "code",
   "execution_count": null,
   "id": "1f64d126",
   "metadata": {},
   "outputs": [],
   "source": [
    "df_clean['end_date'].unique()"
   ]
  },
  {
   "cell_type": "code",
   "execution_count": null,
   "id": "59e91afb",
   "metadata": {},
   "outputs": [],
   "source": [
    "df_clean['issue_d'] = pd.to_datetime(df_clean['issue_d'])\n",
    "df_clean['earliest_cr_line'] = pd.to_datetime(df_clean['earliest_cr_line'])\n",
    "df_clean['last_pymnt_d'] = pd.to_datetime(df_clean['last_pymnt_d'])\n",
    "df_clean['last_credit_pull_d'] = pd.to_datetime(df_clean['last_credit_pull_d'])"
   ]
  },
  {
   "cell_type": "code",
   "execution_count": null,
   "id": "c7d67858",
   "metadata": {},
   "outputs": [],
   "source": [
    "#df_clean['end_date'] = df_clean[['last_pymnt_d', 'last_credit_pull_d']].min(axis=1)\n"
   ]
  },
  {
   "cell_type": "code",
   "execution_count": null,
   "id": "2b3d78b3",
   "metadata": {},
   "outputs": [],
   "source": [
    "df_clean['end_date']= pd.to_datetime(df_clean['end_date'])"
   ]
  },
  {
   "cell_type": "code",
   "execution_count": null,
   "id": "efd0ceb5",
   "metadata": {},
   "outputs": [],
   "source": [
    "df_clean['end_date']"
   ]
  },
  {
   "cell_type": "code",
   "execution_count": null,
   "id": "f30e2650",
   "metadata": {},
   "outputs": [],
   "source": [
    "df_clean['issue_d']"
   ]
  },
  {
   "cell_type": "code",
   "execution_count": null,
   "id": "fa4c9caf",
   "metadata": {},
   "outputs": [],
   "source": [
    "df_clean['survival_time'] = (df_clean['end_date'] - df_clean['issue_d']).dt.days\n"
   ]
  },
  {
   "cell_type": "code",
   "execution_count": null,
   "id": "2c770079",
   "metadata": {},
   "outputs": [],
   "source": [
    "df_clean['survival_time'].isnull().sum()\n"
   ]
  },
  {
   "cell_type": "code",
   "execution_count": null,
   "id": "9200fe1e",
   "metadata": {},
   "outputs": [],
   "source": [
    "print(df_clean['survival_time'].dtype)\n"
   ]
  },
  {
   "cell_type": "code",
   "execution_count": null,
   "id": "4879b183",
   "metadata": {},
   "outputs": [],
   "source": [
    "df_clean['survival_time']"
   ]
  },
  {
   "cell_type": "code",
   "execution_count": null,
   "id": "026fdf55",
   "metadata": {},
   "outputs": [],
   "source": [
    "df_clean['survival_time'].value_counts()"
   ]
  },
  {
   "cell_type": "code",
   "execution_count": null,
   "id": "afc4aa23",
   "metadata": {},
   "outputs": [],
   "source": [
    "df_clean.info()"
   ]
  },
  {
   "cell_type": "code",
   "execution_count": null,
   "id": "fe2853fa",
   "metadata": {},
   "outputs": [],
   "source": [
    "df_clean.columns"
   ]
  },
  {
   "cell_type": "code",
   "execution_count": null,
   "id": "a4a8a7cc",
   "metadata": {},
   "outputs": [],
   "source": [
    "dfcox= df_clean[['grade_encoded', 'sub_grade_encoded', 'home_ownership_encoded', 'purpose_encoded', 'survival_time'\\\n",
    "                ,'loan_status_encoded']]"
   ]
  },
  {
   "cell_type": "code",
   "execution_count": null,
   "id": "fa74ea89",
   "metadata": {},
   "outputs": [],
   "source": [
    "dfcox.info()"
   ]
  },
  {
   "cell_type": "code",
   "execution_count": null,
   "id": "cab00d38",
   "metadata": {},
   "outputs": [],
   "source": [
    "dfcox['loan_status_encoded'].unique()"
   ]
  },
  {
   "cell_type": "code",
   "execution_count": null,
   "id": "5ee1a59c",
   "metadata": {},
   "outputs": [],
   "source": [
    "dfcox['survival_time'].unique()"
   ]
  },
  {
   "cell_type": "code",
   "execution_count": null,
   "id": "ce304a32",
   "metadata": {},
   "outputs": [],
   "source": [
    "dfcox.isnull().sum()"
   ]
  },
  {
   "cell_type": "code",
   "execution_count": null,
   "id": "a1d199a1",
   "metadata": {},
   "outputs": [],
   "source": [
    "dfcox['purpose_encoded'].unique()"
   ]
  },
  {
   "cell_type": "code",
   "execution_count": null,
   "id": "3fd50865",
   "metadata": {},
   "outputs": [],
   "source": [
    "dfcox['survival_time']"
   ]
  },
  {
   "cell_type": "code",
   "execution_count": null,
   "id": "2971f4ec",
   "metadata": {},
   "outputs": [],
   "source": [
    "cph = CoxPHFitter()\n"
   ]
  },
  {
   "cell_type": "code",
   "execution_count": null,
   "id": "d48340d6",
   "metadata": {},
   "outputs": [],
   "source": [
    "#cph.fit(dfcox, duration_col=dfcox['survival_time'], event_col=dfcox['loan_status_encoded'])\n"
   ]
  },
  {
   "cell_type": "code",
   "execution_count": null,
   "id": "9a481262",
   "metadata": {},
   "outputs": [],
   "source": [
    "Xcox = dfcox[['grade_encoded', 'sub_grade_encoded', 'home_ownership_encoded', 'purpose_encoded','survival_time','loan_status_encoded']]\n",
    "ycox = dfcox[['survival_time', 'loan_status_encoded']]"
   ]
  },
  {
   "cell_type": "code",
   "execution_count": null,
   "id": "09231586",
   "metadata": {},
   "outputs": [],
   "source": [
    "import lifelines\n"
   ]
  },
  {
   "cell_type": "code",
   "execution_count": null,
   "id": "816243b0",
   "metadata": {},
   "outputs": [],
   "source": [
    "try:\n",
    "    cph = lifelines.CoxPHFitter()\n",
    "    cph.fit(Xcox, duration_col='survival_time', event_col='loan_status_encoded')\n",
    "    print(cph.summary())\n",
    "except Exception as e:\n",
    "    print(\"Error:\", e)"
   ]
  },
  {
   "cell_type": "code",
   "execution_count": null,
   "id": "1963ae15",
   "metadata": {},
   "outputs": [],
   "source": [
    "dfcox['survival_time']"
   ]
  },
  {
   "cell_type": "code",
   "execution_count": null,
   "id": "b3cc55d1",
   "metadata": {},
   "outputs": [],
   "source": [
    "#dfcox['survival_time'].info()"
   ]
  },
  {
   "cell_type": "code",
   "execution_count": null,
   "id": "740e1e68",
   "metadata": {},
   "outputs": [],
   "source": [
    "#cph.fit(Xcox, duration_col=dfcox['survival_time'], event_col=dfcox['loan_status_encoded'])\n",
    "#cph.print_summary()\n",
    "#cph.plot()"
   ]
  },
  {
   "cell_type": "code",
   "execution_count": null,
   "id": "5e31f400",
   "metadata": {},
   "outputs": [],
   "source": [
    "cph.fit(Xcox, duration_col='survival_time', event_col='loan_status_encoded')\n",
    "cph.print_summary()\n",
    "cph.plot()"
   ]
  },
  {
   "cell_type": "code",
   "execution_count": null,
   "id": "43f34d3f",
   "metadata": {},
   "outputs": [],
   "source": [
    "df_clean.columns"
   ]
  },
  {
   "cell_type": "code",
   "execution_count": null,
   "id": "99bd9fd1",
   "metadata": {},
   "outputs": [],
   "source": [
    "dfcox['survtimemonth']=dfcox['survival_time']/30"
   ]
  },
  {
   "cell_type": "code",
   "execution_count": null,
   "id": "9fc5f12b",
   "metadata": {},
   "outputs": [],
   "source": [
    "df_clean['survtimemonth'] = dfcox['survival_time']/30"
   ]
  },
  {
   "cell_type": "code",
   "execution_count": null,
   "id": "f84cc606",
   "metadata": {},
   "outputs": [],
   "source": [
    "df_clean['survtimemonth']= df_clean['survtimemonth'] .astype(int)"
   ]
  },
  {
   "cell_type": "code",
   "execution_count": null,
   "id": "95aaf16c",
   "metadata": {},
   "outputs": [],
   "source": [
    "Xcoxmain = df_clean[['loanamounttoannualincome', 'annualinstallmenttoannualincome','purpose_encoded','home_ownership_encoded',\\\n",
    "                   'int_rate','loan_status_encoded','survival_time', 'sub_grade_encoded','inq_last_6mths',\\\n",
    "                    'loan_amnt', 'annual_inc', 'delinq_2yrs','emp_length', 'pub_rec', 'revol_util', 'open_acc',\\\n",
    "                    'dti','survtimemonth']]\n"
   ]
  },
  {
   "cell_type": "code",
   "execution_count": null,
   "id": "45712205",
   "metadata": {},
   "outputs": [],
   "source": [
    "ycoxmain = df_clean[['survtimemonth', 'loan_status_encoded']]"
   ]
  },
  {
   "cell_type": "code",
   "execution_count": null,
   "id": "e6d9a037",
   "metadata": {},
   "outputs": [],
   "source": [
    "df_clean['survival_time'].unique()"
   ]
  },
  {
   "cell_type": "code",
   "execution_count": null,
   "id": "07cb171b",
   "metadata": {},
   "outputs": [],
   "source": [
    "cph.fit(Xcoxmain, duration_col='survtimemonth', event_col='loan_status_encoded')\n",
    "cph.print_summary()\n",
    "cph.plot()"
   ]
  },
  {
   "cell_type": "code",
   "execution_count": null,
   "id": "4a111619",
   "metadata": {},
   "outputs": [],
   "source": [
    "cph.print_summary()\n"
   ]
  },
  {
   "cell_type": "code",
   "execution_count": null,
   "id": "2f2d9644",
   "metadata": {},
   "outputs": [],
   "source": [
    "from lifelines.utils import concordance_index\n"
   ]
  },
  {
   "cell_type": "code",
   "execution_count": null,
   "id": "f6762656",
   "metadata": {},
   "outputs": [],
   "source": [
    "summary['Significance'] = summary['p'].apply(significance_stars)\n",
    "print(summary)"
   ]
  },
  {
   "cell_type": "code",
   "execution_count": null,
   "id": "7f7f0064",
   "metadata": {},
   "outputs": [],
   "source": [
    "def nagelkerke_r_square(model):\n",
    "    ll_full = model.log_likelihood_\n",
    "    ll_null = model.baseline_survival_.log_likelihood\n",
    "    n = len(model.durations)\n",
    "    return 1 - (ll_full / ll_null)**(2/n)\n"
   ]
  },
  {
   "cell_type": "code",
   "execution_count": null,
   "id": "212b10fb",
   "metadata": {},
   "outputs": [],
   "source": [
    "nagelkerke_r2 = nagelkerke_r_square(cph)\n"
   ]
  },
  {
   "cell_type": "code",
   "execution_count": null,
   "id": "4c28c8b2",
   "metadata": {},
   "outputs": [],
   "source": [
    "def nagelkerke_r_square(model):\n",
    "    ll_full = model.log_likelihood_\n",
    "    ll_null = model.baseline_survival_.log_likelihood\n",
    "    n = len(model.durations)\n",
    "    return 1 - (ll_full / ll_null)**(2/n)"
   ]
  },
  {
   "cell_type": "code",
   "execution_count": null,
   "id": "d1e8e948",
   "metadata": {},
   "outputs": [],
   "source": [
    "from lifelines.calibration import survival_probability_calibration\n",
    "import matplotlib.pyplot as plt"
   ]
  },
  {
   "cell_type": "code",
   "execution_count": null,
   "id": "12017563",
   "metadata": {},
   "outputs": [],
   "source": [
    "#df_clean['survivalmonth']+= 1e-6"
   ]
  },
  {
   "cell_type": "code",
   "execution_count": null,
   "id": "ed537ced",
   "metadata": {},
   "outputs": [],
   "source": [
    "summary.to_csv('cox_regression_summary.csv')\n",
    "summary.to_csv('cox_regression_summary.csv')\n",
    "print(summary)"
   ]
  },
  {
   "cell_type": "code",
   "execution_count": null,
   "id": "e9980000",
   "metadata": {},
   "outputs": [],
   "source": []
  },
  {
   "cell_type": "code",
   "execution_count": null,
   "id": "a4cacdf1",
   "metadata": {},
   "outputs": [],
   "source": []
  },
  {
   "cell_type": "code",
   "execution_count": null,
   "id": "06d860f7",
   "metadata": {},
   "outputs": [],
   "source": [
    "summary_purpose = summary.loc[summary.index.str.startswith('purpose_encoded')]\n",
    "summary_housing = summary.loc[summary.index.str.startswith('home_ownership_encoded')]"
   ]
  },
  {
   "cell_type": "code",
   "execution_count": null,
   "id": "68a12bf1",
   "metadata": {},
   "outputs": [],
   "source": [
    "summary_purpose['Risk ratio'] = summary_purpose['exp(coef)']\n",
    "summary_purpose['Standard error'] = summary_purpose['se(coef)']\n",
    "summary_purpose = summary_purpose[['coef', 'Standard error', 'Risk ratio', 'p']]\n",
    "summary_purpose.columns = ['Parameter estimate', 'Standard error', 'Risk ratio', 'p-value']\n",
    "\n",
    "summary_housing['Risk ratio'] = summary_housing['exp(coef)']\n",
    "summary_housing['Standard error'] = summary_housing['se(coef)']\n",
    "summary_housing = summary_housing[['coef', 'Standard error', 'Risk ratio', 'p']]\n",
    "summary_housing.columns = ['Parameter estimate', 'Standard error', 'Risk ratio', 'p-value']"
   ]
  },
  {
   "cell_type": "code",
   "execution_count": null,
   "id": "d0487442",
   "metadata": {},
   "outputs": [],
   "source": [
    "summary['Significance'] = summary_purpose_housing['p-value'].apply(significance_stars)\n",
    "print(summary)"
   ]
  },
  {
   "cell_type": "code",
   "execution_count": null,
   "id": "ffd2f9f7",
   "metadata": {},
   "outputs": [],
   "source": [
    "def significance_stars(p):\n",
    "    if p < 0.001:\n",
    "        return '***'\n",
    "    elif p < 0.01:\n",
    "        return '**'\n",
    "    elif p < 0.05:\n",
    "        return '*'\n",
    "    else:\n",
    "        return ''"
   ]
  },
  {
   "cell_type": "code",
   "execution_count": null,
   "id": "aa4baad2",
   "metadata": {},
   "outputs": [],
   "source": [
    "def extract_summary_for_category(summary, category):\n",
    "    category_summary = summary.loc[summary.index.str.startswith(category)]\n",
    "    category_summary['Risk ratio'] = category_summary['exp(coef)']\n",
    "    category_summary['Standard error'] = category_summary['se(coef)']\n",
    "    category_summary = category_summary[['coef', 'Standard error', 'Risk ratio', 'p']]\n",
    "    category_summary.columns = ['Parameter estimate', 'Standard error', 'Risk ratio', 'p-value']\n",
    "    return category_summary"
   ]
  },
  {
   "cell_type": "code",
   "execution_count": null,
   "id": "812438d4",
   "metadata": {},
   "outputs": [],
   "source": [
    "summary_purpose = extract_summary_for_category(summary, 'purpose_encoded')\n",
    "summary_housing = extract_summary_for_category(summary, 'home_ownership_encoded')"
   ]
  },
  {
   "cell_type": "code",
   "execution_count": null,
   "id": "8bf33839",
   "metadata": {},
   "outputs": [],
   "source": [
    "print(\"Purpose Summary:\")\n",
    "print(summary_purpose)\n",
    "print(\"\\nHousing Situation Summary:\")\n",
    "print(summary_housing)"
   ]
  },
  {
   "cell_type": "code",
   "execution_count": null,
   "id": "4e7e50a6",
   "metadata": {},
   "outputs": [],
   "source": [
    "def add_significance_stars(summary):\n",
    "    def significance_stars(p):\n",
    "        if p < 0.001:\n",
    "            return '***'\n",
    "        elif p < 0.01:\n",
    "            return '**'\n",
    "        elif p < 0.05:\n",
    "            return '*'\n",
    "        else:\n",
    "            return ''\n",
    "    summary['Significance'] = summary['p-value'].apply(significance_stars)\n",
    "    return summary"
   ]
  },
  {
   "cell_type": "code",
   "execution_count": null,
   "id": "04035712",
   "metadata": {},
   "outputs": [],
   "source": [
    "summary_purpose1 = add_significance_stars(summary_purpose)\n",
    "summary_housing1 = add_significance_stars(summary_housing)\n",
    "\n",
    "print(\"Purpose Summary:\")\n",
    "print(summary_purpose1)\n",
    "print(\"\\nHousing Situation Summary:\")\n",
    "print(summary_housing1)"
   ]
  },
  {
   "cell_type": "code",
   "execution_count": null,
   "id": "1dfd6470",
   "metadata": {},
   "outputs": [],
   "source": [
    "summary_purpose.to_csv('cox_regression_summary_purpose.csv')\n",
    "summary_housing.to_csv('cox_regression_summary_housing.csv')"
   ]
  },
  {
   "cell_type": "code",
   "execution_count": null,
   "id": "cef3a436",
   "metadata": {},
   "outputs": [],
   "source": [
    "summary_purpose"
   ]
  },
  {
   "cell_type": "code",
   "execution_count": null,
   "id": "c95b434f",
   "metadata": {},
   "outputs": [],
   "source": [
    "summary_purpose['Significance'] = summary_purpose['p-value'].apply(significance_stars)\n",
    "summary_housing['Significance'] = summary_housing['p-value'].apply(significance_stars)"
   ]
  },
  {
   "cell_type": "code",
   "execution_count": null,
   "id": "dbf5fbdf",
   "metadata": {},
   "outputs": [],
   "source": [
    "summary = cph.summary\n"
   ]
  },
  {
   "cell_type": "code",
   "execution_count": null,
   "id": "84b5d34e",
   "metadata": {},
   "outputs": [],
   "source": [
    "summary_purpose_housing = summary.loc[summary.index.str.startswith('purpose_encoded') | summary.index.str.startswith('home_ownership_encoded')]\n",
    "summary_purpose_housing"
   ]
  },
  {
   "cell_type": "code",
   "execution_count": null,
   "id": "291d8963",
   "metadata": {},
   "outputs": [],
   "source": [
    "summary_purpose_housing['Risk ratio'] = summary_purpose_housing['exp(coef)']\n",
    "summary_purpose_housing['Standard error'] = summary_purpose_housing['se(coef)']\n",
    "summary_purpose_housing = summary_purpose_housing[['coef', 'Standard error', 'Risk ratio', 'p']]\n",
    "summary_purpose_housing.columns = ['Parameter estimate', 'Standard error', 'Risk ratio', 'p-value']\n"
   ]
  },
  {
   "cell_type": "code",
   "execution_count": null,
   "id": "b6eef766",
   "metadata": {},
   "outputs": [],
   "source": [
    "def significance_stars(p):\n",
    "    if p < 0.001:\n",
    "        return '***'\n",
    "    elif p < 0.01:\n",
    "        return '**'\n",
    "    elif p < 0.05:\n",
    "        return '*'\n",
    "    else:\n",
    "        return ''"
   ]
  },
  {
   "cell_type": "code",
   "execution_count": null,
   "id": "a5ad08ff",
   "metadata": {},
   "outputs": [],
   "source": [
    "summary_purpose_housing['Significance'] = summary_purpose_housing['p-value'].apply(significance_stars)\n",
    "print(summary_purpose_housing)\n"
   ]
  },
  {
   "cell_type": "code",
   "execution_count": null,
   "id": "2230e189",
   "metadata": {},
   "outputs": [],
   "source": [
    "summary_purpose_housing.to_csv('cox_regression_summary_purpose_housing.csv')\n",
    "summary_purpose_housing"
   ]
  },
  {
   "cell_type": "code",
   "execution_count": null,
   "id": "b8cf046f",
   "metadata": {},
   "outputs": [],
   "source": [
    "dfcox['survtimemonth']=dfcox['survival_time']/30"
   ]
  },
  {
   "cell_type": "code",
   "execution_count": null,
   "id": "ebdec9a8",
   "metadata": {},
   "outputs": [],
   "source": []
  },
  {
   "cell_type": "code",
   "execution_count": null,
   "id": "be8ebc94",
   "metadata": {},
   "outputs": [],
   "source": [
    "summary_df = cph.summary\n",
    "summary_df = summary_df.rename(columns={'coef': 'Parameter Estimate', 'se(coef)': 'Standard Error', 'exp(coef)': 'Hazard Ratio'})\n",
    "\n",
    "print(summary_df[['Parameter Estimate', 'Standard Error', 'Hazard Ratio']])"
   ]
  },
  {
   "cell_type": "code",
   "execution_count": null,
   "id": "b1538c3a",
   "metadata": {},
   "outputs": [],
   "source": [
    "df_clean['survtimemonth'] = dfcox['survival_time']/30"
   ]
  },
  {
   "cell_type": "code",
   "execution_count": null,
   "id": "a5ac2a8e",
   "metadata": {},
   "outputs": [],
   "source": [
    "df_clean['survtimemonth']= df_clean['survtimemonth'] .astype(int)"
   ]
  },
  {
   "cell_type": "code",
   "execution_count": null,
   "id": "9dad4343",
   "metadata": {},
   "outputs": [],
   "source": [
    "dfcox['survtimemonth']"
   ]
  },
  {
   "cell_type": "code",
   "execution_count": null,
   "id": "77ca5464",
   "metadata": {},
   "outputs": [],
   "source": [
    "dfcox['survtimemonthint']=dfcox['survtimemonth'].astype(int)"
   ]
  },
  {
   "cell_type": "code",
   "execution_count": null,
   "id": "3370722a",
   "metadata": {},
   "outputs": [],
   "source": [
    "dfcox['survtimemonthint']"
   ]
  },
  {
   "cell_type": "code",
   "execution_count": null,
   "id": "3979efac",
   "metadata": {},
   "outputs": [],
   "source": [
    "df_clean.columns"
   ]
  },
  {
   "cell_type": "code",
   "execution_count": null,
   "id": "f60ce305",
   "metadata": {},
   "outputs": [],
   "source": [
    "#cph.fit(Xcox, duration_col='survtimemonthint', event_col='loan_status_encoded')\n",
    "#cph.print_summary()\n",
    "#cph.plot()"
   ]
  },
  {
   "cell_type": "code",
   "execution_count": null,
   "id": "7242f6a9",
   "metadata": {},
   "outputs": [],
   "source": [
    "#dfcox= dfcox.astype(int)\n"
   ]
  },
  {
   "cell_type": "code",
   "execution_count": null,
   "id": "30eefcfb",
   "metadata": {},
   "outputs": [],
   "source": [
    "# Calculate survival time as the difference between issue date and last payment date or most recent credit pull date\n",
    "#df_clean['survival_time2'] = (df[['last_pymnt_d', 'last_credit_pull_d']].min(axis=1) - df['issue_d']).dt.days\n"
   ]
  },
  {
   "cell_type": "code",
   "execution_count": null,
   "id": "8abf4820",
   "metadata": {},
   "outputs": [],
   "source": [
    "#df_clean['survival_time2']"
   ]
  },
  {
   "cell_type": "code",
   "execution_count": null,
   "id": "538f3633",
   "metadata": {},
   "outputs": [],
   "source": [
    "#df_clean['survival_time2']=df_clean['survival_time2'].astype(int)"
   ]
  },
  {
   "cell_type": "code",
   "execution_count": null,
   "id": "024fca03",
   "metadata": {},
   "outputs": [],
   "source": [
    "#df_clean['survival_time2']"
   ]
  },
  {
   "cell_type": "code",
   "execution_count": null,
   "id": "6b542e42",
   "metadata": {},
   "outputs": [],
   "source": [
    "#duration_col=df_clean['survival_time'].values\n",
    "#event_col=df_clean['loan_status_encoded'].values"
   ]
  },
  {
   "cell_type": "code",
   "execution_count": null,
   "id": "b2d528d3",
   "metadata": {},
   "outputs": [],
   "source": [
    "#duration_col"
   ]
  },
  {
   "cell_type": "code",
   "execution_count": null,
   "id": "6f5b8815",
   "metadata": {},
   "outputs": [],
   "source": [
    "#event_col"
   ]
  },
  {
   "cell_type": "code",
   "execution_count": null,
   "id": "729944f4",
   "metadata": {},
   "outputs": [],
   "source": [
    "#cph.fit(dfcox, duration_col, event_col)"
   ]
  },
  {
   "cell_type": "code",
   "execution_count": null,
   "id": "49f090d2",
   "metadata": {},
   "outputs": [],
   "source": [
    "#df_clean.info()"
   ]
  },
  {
   "cell_type": "code",
   "execution_count": null,
   "id": "ea61ae46",
   "metadata": {},
   "outputs": [],
   "source": [
    "#df['survival_time'].len()"
   ]
  },
  {
   "cell_type": "code",
   "execution_count": null,
   "id": "7a47e432",
   "metadata": {},
   "outputs": [],
   "source": [
    "cph.plot_partial_effects_on_outcome('loan_amnt', values=[10000, 20000, 30000])\n",
    "plt.title('Partial Effects on Survival')\n",
    "plt.show()"
   ]
  },
  {
   "cell_type": "code",
   "execution_count": null,
   "id": "6b79c671",
   "metadata": {},
   "outputs": [],
   "source": [
    "cph.plot_partial_effects_on_outcome('purpose_encoded', values=[1,2,3,4,5,6,7,8,9,10])\n",
    "plt.title('Partial Effects on Survival')\n",
    "plt.show()"
   ]
  },
  {
   "cell_type": "code",
   "execution_count": null,
   "id": "6e9d9f33",
   "metadata": {},
   "outputs": [],
   "source": [
    "df_clean['purpose_encoded'].unique()"
   ]
  },
  {
   "cell_type": "code",
   "execution_count": null,
   "id": "845b1b35",
   "metadata": {},
   "outputs": [],
   "source": [
    "df_clean['purpose'].unique()"
   ]
  },
  {
   "cell_type": "code",
   "execution_count": null,
   "id": "13493ebc",
   "metadata": {},
   "outputs": [],
   "source": [
    "from lifelines import KaplanMeierFitter\n"
   ]
  },
  {
   "cell_type": "code",
   "execution_count": null,
   "id": "05b66c55",
   "metadata": {},
   "outputs": [],
   "source": [
    "T= df_clean['survtimemonth']\n",
    "E= df_clean['loan_status_encoded']"
   ]
  },
  {
   "cell_type": "code",
   "execution_count": null,
   "id": "e4853430",
   "metadata": {},
   "outputs": [],
   "source": [
    "kmf = KaplanMeierFitter()\n",
    "kmf.fit(durations=T, event_observed =E)\n",
    "kmf.plot_survival_function()"
   ]
  },
  {
   "cell_type": "code",
   "execution_count": null,
   "id": "851d895a",
   "metadata": {},
   "outputs": [],
   "source": [
    "kmf.survival_function_.plot()\n",
    "plt.title('Survival function')"
   ]
  },
  {
   "cell_type": "code",
   "execution_count": null,
   "id": "dcf49c7c",
   "metadata": {},
   "outputs": [],
   "source": [
    "kmf.plot_cumulative_density()\n"
   ]
  },
  {
   "cell_type": "code",
   "execution_count": null,
   "id": "6dcd2ef2",
   "metadata": {},
   "outputs": [],
   "source": [
    "ax = plt.subplot(111)\n",
    "m = (df_clean[\"purpose_encoded\"] == 0)\n",
    "kmf.fit(durations = T[m], event_observed = E[m], label = \"1\")\n",
    "kmf.plot_survival_function(ax = ax)\n",
    "kmf.fit(T[~m], event_observed = E[~m], label = \"2\")\n",
    "kmf.plot_survival_function(ax = ax, at_risk_counts = True)\n",
    "plt.title(\"Survival of different purpose \")"
   ]
  },
  {
   "cell_type": "code",
   "execution_count": null,
   "id": "60b5cb73",
   "metadata": {},
   "outputs": [],
   "source": [
    "cph.plot_partial_effects_on_outcome(covariates = 'purpose_encoded', values = [1,2,3,4,5,6], cmap = 'coolwarm')"
   ]
  },
  {
   "cell_type": "code",
   "execution_count": null,
   "id": "12da5253",
   "metadata": {},
   "outputs": [],
   "source": [
    "kmf = KaplanMeierFitter()\n",
    "\n",
    "plt.figure(figsize=(25,10))"
   ]
  },
  {
   "cell_type": "code",
   "execution_count": null,
   "id": "c7c4e910",
   "metadata": {},
   "outputs": [],
   "source": [
    "loan_purposes = df_clean['purpose'].unique()\n",
    "loan_purposes"
   ]
  },
  {
   "cell_type": "code",
   "execution_count": null,
   "id": "b7e5c0c4",
   "metadata": {},
   "outputs": [],
   "source": [
    "for purpose in loan_purposes:\n",
    "    mask =df_clean['purpose'] == purpose\n",
    "    kmf.fit(durations=df_clean[mask]['survtimemonth'], event_observed=df_clean[mask]['loan_status_encoded'], label=purpose)\n",
    "    kmf.plot_survival_function()\n",
    "\n",
    "plt.title('Survival Functions for Different Loan Purposes')\n",
    "plt.xlabel('Days')\n",
    "plt.ylabel('Survival Probability')\n",
    "plt.legend()\n",
    "#plt.grid(True)\n",
    "plt.show()"
   ]
  },
  {
   "cell_type": "code",
   "execution_count": null,
   "id": "bae5f178",
   "metadata": {},
   "outputs": [],
   "source": [
    "#pip install jinja2==3.0.3\n"
   ]
  },
  {
   "cell_type": "code",
   "execution_count": null,
   "id": "956e84a2",
   "metadata": {},
   "outputs": [],
   "source": [
    "#pip install pandoc"
   ]
  },
  {
   "cell_type": "code",
   "execution_count": null,
   "id": "7f9eac83",
   "metadata": {},
   "outputs": [],
   "source": []
  },
  {
   "cell_type": "code",
   "execution_count": null,
   "id": "5dedd6be",
   "metadata": {},
   "outputs": [],
   "source": []
  }
 ],
 "metadata": {
  "kernelspec": {
   "display_name": "Python 3 (ipykernel)",
   "language": "python",
   "name": "python3"
  },
  "language_info": {
   "codemirror_mode": {
    "name": "ipython",
    "version": 3
   },
   "file_extension": ".py",
   "mimetype": "text/x-python",
   "name": "python",
   "nbconvert_exporter": "python",
   "pygments_lexer": "ipython3",
   "version": "3.12.9"
  }
 },
 "nbformat": 4,
 "nbformat_minor": 5
}
